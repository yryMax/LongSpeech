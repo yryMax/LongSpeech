{
 "cells": [
  {
   "cell_type": "code",
   "id": "initial_id",
   "metadata": {
    "ExecuteTime": {
     "end_time": "2025-07-14T12:27:09.997605Z",
     "start_time": "2025-07-14T12:27:09.990088Z"
    }
   },
   "source": [
    "import multiprocessing as mp\n",
    "from pathlib import Path\n",
    "import os\n",
    "import json\n",
    "import pandas as pd\n",
    "from tqdm import tqdm\n",
    "from lhotse import CutSet, RecordingSet, SupervisionSet, MonoCut\n",
    "from lhotse.cut import append_cuts\n",
    "from lhotse.recipes import prepare_voxpopuli, download_voxpopuli\n",
    "import logging\n",
    "from functools import reduce\n",
    "from datasets import load_dataset, DownloadConfig\n",
    "logging.basicConfig(level=logging.INFO)"
   ],
   "outputs": [],
   "execution_count": 85
  },
  {
   "cell_type": "code",
   "id": "e3a1954a",
   "metadata": {
    "ExecuteTime": {
     "end_time": "2025-07-14T12:27:14.707548Z",
     "start_time": "2025-07-14T12:27:14.704531Z"
    }
   },
   "source": [
    "# directory paths to save audio and transcript files\n",
    "IN_DIR = \"../datasets/LongSpeechSource/voxpopuli\"\n",
    "# directory paths to save metadata and processed aduio files\n",
    "OUT_DIR = '../datasets/LongSpeech'"
   ],
   "outputs": [],
   "execution_count": 87
  },
  {
   "cell_type": "code",
   "id": "config_setup",
   "metadata": {
    "ExecuteTime": {
     "end_time": "2025-07-14T12:27:12.824160Z",
     "start_time": "2025-07-14T12:27:12.805294Z"
    }
   },
   "source": [
    "config = json.load(open(os.path.join(OUT_DIR, 'metadata.json')))\n",
    "AVG_DURATION = config['avg_duration']\n",
    "SAMPLE_RATE = config['sample_rate']\n",
    "OUT_FILE_NAME = config['source']\n",
    "prev_amount = config['amount']\n",
    "print(prev_amount)\n",
    "task = \"asr\"\n",
    "lang = \"en\""
   ],
   "outputs": [
    {
     "name": "stdout",
     "output_type": "stream",
     "text": [
      "0\n"
     ]
    }
   ],
   "execution_count": 86
  },
  {
   "cell_type": "code",
   "execution_count": null,
   "id": "8dd87ec0",
   "metadata": {},
   "outputs": [],
   "source": [
    "manifests = prepare_voxpopuli(corpus_dir=IN_DIR, output_dir=OUT_DIR, task=task, lang=lang, num_jobs=15)\n",
    "\n",
    "logging.info(f\"RecordingSet: {manifests['train']['recordings']}\")\n",
    "logging.info(f\"SupervisionSet: {manifests['train']['supervisions']}\")"
   ]
  },
  {
   "cell_type": "code",
   "execution_count": 16,
   "id": "793fc82e",
   "metadata": {},
   "outputs": [],
   "source": [
    "rs = manifests['train']['recordings']\n",
    "ss = manifests['train']['supervisions']\n",
    "cut = CutSet.from_manifests(recordings=rs, supervisions=ss)"
   ]
  },
  {
   "cell_type": "code",
   "id": "5925c1b8",
   "metadata": {
    "ExecuteTime": {
     "end_time": "2025-07-14T07:11:31.887764Z",
     "start_time": "2025-07-14T07:11:31.727549Z"
    }
   },
   "source": "cuts.to_jsonl(os.path.join(OUT_DIR, 'voxpopuli_raw_cuts.jsonl'))",
   "outputs": [],
   "execution_count": 12
  },
  {
   "cell_type": "code",
   "execution_count": 8,
   "id": "load_manifests",
   "metadata": {},
   "outputs": [],
   "source": [
    "\"\"\"\n",
    "cuts = CutSet()\n",
    "for part in manifests.keys():\n",
    "    rs = manifests[part]['recordings']\n",
    "    ss = manifests[part]['supervisions']\n",
    "    cut = CutSet.from_manifests(recordings=rs, supervisions=ss)\n",
    "    cuts += cut\n",
    "\"\"\""
   ]
  },
  {
   "metadata": {
    "ExecuteTime": {
     "end_time": "2025-07-14T12:27:21.684912Z",
     "start_time": "2025-07-14T12:27:21.518202Z"
    }
   },
   "cell_type": "code",
   "source": "cuts = CutSet.from_jsonl(os.path.join(OUT_DIR, 'voxpopuli_raw_cuts.jsonl'))",
   "id": "7df30e9da64fbb16",
   "outputs": [],
   "execution_count": 88
  },
  {
   "metadata": {
    "ExecuteTime": {
     "end_time": "2025-07-14T12:27:31.005315Z",
     "start_time": "2025-07-14T12:27:30.886903Z"
    }
   },
   "cell_type": "code",
   "source": "spilted_cuts = cuts.trim_to_supervision_groups(max_pause=5).filter(lambda cut: cut.duration > 10).sort_by_recording_id().merge_supervisions(merge_policy=\"keep_first\")",
   "id": "18757ede7c1e08b2",
   "outputs": [],
   "execution_count": 89
  },
  {
   "metadata": {
    "ExecuteTime": {
     "end_time": "2025-07-14T12:27:32.543651Z",
     "start_time": "2025-07-14T12:27:32.460888Z"
    }
   },
   "cell_type": "code",
   "source": "spilted_cuts.to_jsonl(os.path.join(OUT_DIR, 'voxpopuli_spilted_cuts.jsonl'))",
   "id": "70df550dc059808d",
   "outputs": [],
   "execution_count": 90
  },
  {
   "metadata": {
    "ExecuteTime": {
     "end_time": "2025-07-14T12:27:50.599452Z",
     "start_time": "2025-07-14T12:27:50.586978Z"
    }
   },
   "cell_type": "code",
   "source": [
    "def pack_cuts_to_long_audio(\n",
    "    cuts: CutSet,\n",
    "    target_duration: float = 600.0,\n",
    "    starting_id: int = 0,\n",
    ") -> (CutSet, int):\n",
    "    final_long_cuts = []\n",
    "    buffer_cut = None\n",
    "\n",
    "    for cut in cuts:\n",
    "        buffer_cut = cut if buffer_cut is None else buffer_cut.append(cut)\n",
    "        if buffer_cut.duration >= target_duration:\n",
    "            final_long_cuts.append(buffer_cut.with_id(f\"{starting_id:06d}\"))\n",
    "            starting_id += 1\n",
    "            buffer_cut = None\n",
    "\n",
    "    return CutSet.from_cuts(final_long_cuts), starting_id"
   ],
   "id": "54ca25f7aa386dd3",
   "outputs": [],
   "execution_count": 91
  },
  {
   "metadata": {
    "ExecuteTime": {
     "end_time": "2025-07-14T12:27:54.177353Z",
     "start_time": "2025-07-14T12:27:54.076159Z"
    }
   },
   "cell_type": "code",
   "source": [
    "grouped_cuts, new_amount = pack_cuts_to_long_audio(spilted_cuts, target_duration=600.0, starting_id = prev_amount)\n",
    "grouped_cuts.to_jsonl(OUT_DIR + \"/grouped_cuts.jsonl\")"
   ],
   "id": "450dcf1c054e7c5a",
   "outputs": [],
   "execution_count": 92
  },
  {
   "metadata": {
    "ExecuteTime": {
     "end_time": "2025-07-14T12:27:55.715805Z",
     "start_time": "2025-07-14T12:27:55.706183Z"
    }
   },
   "cell_type": "code",
   "source": [
    "def json_from_voxpopuli_to_allaudios(one_cut, lang = \"en\"):\n",
    "    \"\"\"\n",
    "    Convert a single LibriSpeech json record to a list of LongSpeech metadata.\n",
    "    \"\"\"\n",
    "    sources = []\n",
    "    speakers = set()\n",
    "    total_dur = 0\n",
    "    transcripts = []\n",
    "    slices = []\n",
    "\n",
    "    for subcut in one_cut[\"tracks\"]:\n",
    "        total_dur += subcut[\"cut\"][\"duration\"]\n",
    "        full_pth = subcut[\"cut\"][\"recording\"][\"sources\"][0][\"source\"]\n",
    "        slices.append([subcut[\"cut\"][\"start\"], subcut[\"cut\"][\"duration\"]])\n",
    "        sources.append(full_pth.split(\"voxpopuli\")[-1])\n",
    "        [speakers.add(s[\"speaker\"]) for s in subcut[\"cut\"][\"supervisions\"] if s[\"speaker\"]]\n",
    "        transcript_param = \" \".join([s[\"text\"] for s in subcut[\"cut\"][\"supervisions\"] if s[\"text\"]])\n",
    "        if transcript_param != \"\":\n",
    "            transcripts.append(transcript_param)\n",
    "        else:\n",
    "            print(subcut)\n",
    "\n",
    "    return {\n",
    "        \"id\": one_cut[\"id\"],\n",
    "        \"source_ds\": \"voxpopuli\",\n",
    "        \"duration_sec\": total_dur,\n",
    "        \"audio_auto\": False,\n",
    "        \"text_auto\": False,\n",
    "        \"language\": lang,\n",
    "        \"num_speakers\": len(speakers),\n",
    "        \"num_switches\": len(one_cut[\"tracks\"]),\n",
    "        \"slice\": slices,\n",
    "        \"transcribe\": \" \".join(transcripts),\n",
    "        \"components\": sources,\n",
    "    }"
   ],
   "id": "1d43816318a21fcf",
   "outputs": [],
   "execution_count": 93
  },
  {
   "metadata": {
    "ExecuteTime": {
     "end_time": "2025-07-14T12:28:00.232786Z",
     "start_time": "2025-07-14T12:28:00.228960Z"
    }
   },
   "cell_type": "code",
   "source": [
    "def convert_record(source_jsonl_path: str, target_jsonl_path: str, map_fn):\n",
    "    with open(source_jsonl_path, \"r\", encoding=\"utf-8\") as src_f, \\\n",
    "         open(target_jsonl_path, \"a\", encoding=\"utf-8\") as tgt_f:\n",
    "        for line in src_f:\n",
    "            item = json.loads(line)\n",
    "            new_item = map_fn(item)\n",
    "            tgt_f.write(json.dumps(new_item, ensure_ascii=False) + \"\\n\")"
   ],
   "id": "9c5445b38bfc7ca3",
   "outputs": [],
   "execution_count": 94
  },
  {
   "metadata": {
    "ExecuteTime": {
     "end_time": "2025-07-14T12:28:33.965246Z",
     "start_time": "2025-07-14T12:28:33.909457Z"
    }
   },
   "cell_type": "code",
   "source": [
    "convert_record(os.path.join(OUT_DIR, \"grouped_cuts.jsonl\"),\n",
    "               os.path.join(OUT_DIR, OUT_FILE_NAME),\n",
    "               json_from_voxpopuli_to_allaudios)"
   ],
   "id": "65add33c8b65e843",
   "outputs": [],
   "execution_count": 95
  },
  {
   "metadata": {},
   "cell_type": "code",
   "outputs": [],
   "execution_count": null,
   "source": [
    "def save_audios_from_cutset(cutset, out_dir, num_jobs=1):\n",
    "    \"\"\"\n",
    "    Save audios from a CutSet to the specified directory.\n",
    "    \"\"\"\n",
    "    for cut in tqdm(cutset):\n",
    "        cut.save_audio(os.path.join(out_dir, f\"{cut.id}.wav\"))\n",
    "save_audios_from_cutset(grouped_cuts, os.path.join(OUT_DIR, 'wavs'))"
   ],
   "id": "c2d7fb0dccb9c2b5"
  }
 ],
 "metadata": {
  "kernelspec": {
   "display_name": "sdv3",
   "language": "python",
   "name": "python3"
  },
  "language_info": {
   "codemirror_mode": {
    "name": "ipython",
    "version": 3
   },
   "file_extension": ".py",
   "mimetype": "text/x-python",
   "name": "python",
   "nbconvert_exporter": "python",
   "pygments_lexer": "ipython3",
   "version": "3.10.18"
  }
 },
 "nbformat": 4,
 "nbformat_minor": 5
}
