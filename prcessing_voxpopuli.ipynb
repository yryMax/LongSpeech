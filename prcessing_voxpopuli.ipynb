{
 "cells": [
  {
   "cell_type": "code",
   "id": "initial_id",
   "metadata": {
    "ExecuteTime": {
     "end_time": "2025-07-14T09:24:05.862200Z",
     "start_time": "2025-07-14T09:24:05.858261Z"
    }
   },
   "source": [
    "import multiprocessing as mp\n",
    "from pathlib import Path\n",
    "import os\n",
    "import json\n",
    "import pandas as pd\n",
    "from tqdm import tqdm\n",
    "from lhotse import CutSet, RecordingSet, SupervisionSet, MonoCut\n",
    "from lhotse.cut import append_cuts\n",
    "from lhotse.recipes import prepare_voxpopuli, download_voxpopuli\n",
    "import logging\n",
    "from functools import reduce\n",
    "from datasets import load_dataset, DownloadConfig\n",
    "logging.basicConfig(level=logging.INFO)"
   ],
   "outputs": [],
   "execution_count": 21
  },
  {
   "cell_type": "code",
   "id": "e3a1954a",
   "metadata": {
    "ExecuteTime": {
     "end_time": "2025-07-14T07:03:34.774231Z",
     "start_time": "2025-07-14T07:03:34.771360Z"
    }
   },
   "source": [
    "# directory paths to save audio and transcript files\n",
    "IN_DIR = \"../datasets/LongSpeechSource/voxpopuli\"\n",
    "# directory paths to save metadata and processed aduio files\n",
    "OUT_DIR = '../datasets/LongSpeech'"
   ],
   "outputs": [],
   "execution_count": 8
  },
  {
   "cell_type": "code",
   "execution_count": 4,
   "id": "config_setup",
   "metadata": {},
   "outputs": [
    {
     "name": "stdout",
     "output_type": "stream",
     "text": [
      "5290\n"
     ]
    }
   ],
   "source": [
    "config = json.load(open(os.path.join(OUT_DIR, 'metadata.json')))\n",
    "AVG_DURATION = config['avg_duration']\n",
    "SAMPLE_RATE = config['sample_rate']\n",
    "OUT_FILE_NAME = config['source']\n",
    "prev_amount = config['amount']\n",
    "print(prev_amount)"
   ]
  },
  {
   "cell_type": "code",
   "execution_count": 5,
   "id": "download_and_prepare",
   "metadata": {},
   "outputs": [
    {
     "name": "stderr",
     "output_type": "stream",
     "text": [
      "INFO:root:12 files to download...\n",
      "100%|██████████| 5.29G/5.29G [04:12<00:00, 22.5MB/s]\n",
      "  8%|▊         | 1/12 [05:38<1:01:58, 338.03s/it]"
     ]
    }
   ],
   "source": [
    "# Download and prepare VoxPopuli dataset for ASR task in English\n",
    "task = 'asr'\n",
    "# Set to True to force re-download\n",
    "ForceDownload = True  \n",
    "\n",
    "if ForceDownload:\n",
    "    download_voxpopuli(target_dir=IN_DIR, subset=task)\n",
    "\n"
   ]
  },
  {
   "cell_type": "code",
   "execution_count": null,
   "id": "8dd87ec0",
   "metadata": {},
   "outputs": [],
   "source": [
    "manifests = prepare_voxpopuli(corpus_dir=IN_DIR, output_dir=OUT_DIR, task=task, lang=lang, num_jobs=15)\n",
    "\n",
    "logging.info(f\"RecordingSet: {manifests['train']['recordings']}\")\n",
    "logging.info(f\"SupervisionSet: {manifests['train']['supervisions']}\")"
   ]
  },
  {
   "cell_type": "code",
   "execution_count": 16,
   "id": "793fc82e",
   "metadata": {},
   "outputs": [],
   "source": [
    "rs = manifests['train']['recordings']\n",
    "ss = manifests['train']['supervisions']\n",
    "cut = CutSet.from_manifests(recordings=rs, supervisions=ss)"
   ]
  },
  {
   "cell_type": "code",
   "id": "5925c1b8",
   "metadata": {
    "ExecuteTime": {
     "end_time": "2025-07-14T07:11:31.887764Z",
     "start_time": "2025-07-14T07:11:31.727549Z"
    }
   },
   "source": "cuts.to_jsonl(os.path.join(OUT_DIR, 'voxpopuli_raw_cuts.jsonl'))",
   "outputs": [],
   "execution_count": 12
  },
  {
   "cell_type": "code",
   "execution_count": 8,
   "id": "load_manifests",
   "metadata": {},
   "outputs": [],
   "source": [
    "\"\"\"\n",
    "cuts = CutSet()\n",
    "for part in manifests.keys():\n",
    "    rs = manifests[part]['recordings']\n",
    "    ss = manifests[part]['supervisions']\n",
    "    cut = CutSet.from_manifests(recordings=rs, supervisions=ss)\n",
    "    cuts += cut\n",
    "\"\"\""
   ]
  },
  {
   "metadata": {
    "ExecuteTime": {
     "end_time": "2025-07-14T09:01:35.997890Z",
     "start_time": "2025-07-14T09:01:35.831762Z"
    }
   },
   "cell_type": "code",
   "source": "cuts = CutSet.from_jsonl(os.path.join(OUT_DIR, 'voxpopuli_raw_cuts.jsonl'))",
   "id": "7df30e9da64fbb16",
   "outputs": [],
   "execution_count": 17
  },
  {
   "cell_type": "code",
   "id": "create_cuts",
   "metadata": {
    "ExecuteTime": {
     "end_time": "2025-07-14T09:29:28.914924Z",
     "start_time": "2025-07-14T09:29:28.910945Z"
    }
   },
   "source": "cuts = cuts.sort_by_recording_id()",
   "outputs": [],
   "execution_count": 25
  },
  {
   "metadata": {
    "ExecuteTime": {
     "end_time": "2025-07-14T09:24:25.848774Z",
     "start_time": "2025-07-14T09:24:25.664458Z"
    }
   },
   "cell_type": "code",
   "source": "",
   "id": "18757ede7c1e08b2",
   "outputs": [],
   "execution_count": 23
  },
  {
   "metadata": {
    "ExecuteTime": {
     "end_time": "2025-07-14T09:29:49.512232Z",
     "start_time": "2025-07-14T09:29:49.372504Z"
    }
   },
   "cell_type": "code",
   "source": "cuts.to_jsonl(os.path.join(OUT_DIR, 'cuts_sorted.jsonl'))",
   "id": "70df550dc059808d",
   "outputs": [],
   "execution_count": 26
  }
 ],
 "metadata": {
  "kernelspec": {
   "display_name": "sdv3",
   "language": "python",
   "name": "python3"
  },
  "language_info": {
   "codemirror_mode": {
    "name": "ipython",
    "version": 3
   },
   "file_extension": ".py",
   "mimetype": "text/x-python",
   "name": "python",
   "nbconvert_exporter": "python",
   "pygments_lexer": "ipython3",
   "version": "3.10.18"
  }
 },
 "nbformat": 4,
 "nbformat_minor": 5
}
