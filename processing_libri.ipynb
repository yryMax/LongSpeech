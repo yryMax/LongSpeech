{
 "cells": [
  {
   "metadata": {
    "collapsed": true,
    "jupyter": {
     "is_executing": true
    }
   },
   "cell_type": "code",
   "source": [
    "import os\n",
    "import json\n",
    "from itertools import count\n",
    "import heapq\n",
    "import soundfile as sf\n",
    "import librosa\n"
   ],
   "id": "initial_id",
   "outputs": [],
   "execution_count": null
  },
  {
   "metadata": {
    "ExecuteTime": {
     "end_time": "2025-07-09T04:19:25.689486Z",
     "start_time": "2025-07-09T04:19:16.326942Z"
    }
   },
   "cell_type": "code",
   "source": "from LibriSpeechEntity import LibriSpeechEntity",
   "id": "c466707a6f1b3314",
   "outputs": [
    {
     "name": "stderr",
     "output_type": "stream",
     "text": [
      "/home/renyi/anaconda3/envs/cosyvoice2/lib/python3.8/site-packages/transformers/pipelines/token_classification.py:170: UserWarning: `grouped_entities` is deprecated and will be removed in version v5.0.0, defaulted to `aggregation_strategy=\"none\"` instead.\n",
      "  warnings.warn(\n"
     ]
    }
   ],
   "execution_count": 2
  },
  {
   "metadata": {
    "ExecuteTime": {
     "end_time": "2025-07-09T04:19:44.415513Z",
     "start_time": "2025-07-09T04:19:44.412701Z"
    }
   },
   "cell_type": "code",
   "source": [
    "INPUTDIR = \"/mnt/d/voicedata/test-clean/LibriSpeech/test-clean\"\n",
    "N_WORKERS = os.cpu_count() or 4"
   ],
   "id": "85a549c031318ee9",
   "outputs": [],
   "execution_count": 3
  },
  {
   "metadata": {
    "ExecuteTime": {
     "end_time": "2025-07-09T04:19:46.583883Z",
     "start_time": "2025-07-09T04:19:46.579632Z"
    }
   },
   "cell_type": "code",
   "source": [
    "speakerchapter_dict = {}\n",
    "OUT_DIR = '../datasets/LongSpeech'"
   ],
   "id": "65f27d2990c5015f",
   "outputs": [],
   "execution_count": 4
  },
  {
   "metadata": {
    "ExecuteTime": {
     "end_time": "2025-07-09T04:19:48.871450Z",
     "start_time": "2025-07-09T04:19:48.861777Z"
    }
   },
   "cell_type": "code",
   "source": [
    "\n",
    "# read from metadata\n",
    "config = json.load(open(os.path.join(OUT_DIR, 'metadata.json')))\n",
    "\n",
    "AVG_DURATION = config['avg_duration']\n",
    "SAMPLE_RATE = config['sample_rate']\n",
    "OUT_FILE_NAME = config['source']\n",
    "\n",
    "counter = count(start=config['amount'])"
   ],
   "id": "7e1c4fa7df2f044d",
   "outputs": [],
   "execution_count": 5
  },
  {
   "metadata": {
    "ExecuteTime": {
     "end_time": "2025-07-09T04:20:26.475860Z",
     "start_time": "2025-07-09T04:19:54.057795Z"
    }
   },
   "cell_type": "code",
   "source": [
    "for speakers in os.listdir(INPUTDIR):\n",
    "    for chapter in os.listdir(os.path.join(INPUTDIR, speakers)):\n",
    "        speaker_chapter_key = speakers + '#' + chapter\n",
    "        duration = 0\n",
    "        segment_amount = 0\n",
    "        for wavs in os.listdir(os.path.join(INPUTDIR, speakers, chapter)):\n",
    "\n",
    "            if not wavs.endswith(\".flac\"):\n",
    "                continue\n",
    "\n",
    "            audio_path = os.path.join(INPUTDIR, speakers, chapter, wavs)\n",
    "\n",
    "            info = sf.info(audio_path)\n",
    "            dur  = info.frames / info.samplerate\n",
    "            duration += dur\n",
    "            segment_amount += 1\n",
    "        speakerchapter_dict[speaker_chapter_key] = (duration, 0, segment_amount)\n",
    "\n",
    "\n",
    "\n",
    "print(speakerchapter_dict)"
   ],
   "id": "cdc2b069c445ba79",
   "outputs": [
    {
     "name": "stdout",
     "output_type": "stream",
     "text": [
      "{'1089#134686': (276.21006250000005, 0, 38), '1089#134691': (206.8500625, 0, 26), '1188#133604': (491.93493750000016, 0, 45), '121#121726': (79.09, 0, 15), '121#123852': (76.64500000000001, 0, 5), '121#123859': (93.15499999999999, 0, 5), '121#127105': (231.69499999999996, 0, 37), '1221#135766': (176.6, 0, 16), '1221#135767': (307.745, 0, 25), '1284#1180': (227.9, 0, 33), '1284#1181': (146.97999999999996, 0, 22), '1284#134647': (114.5550625, 0, 8), '1320#122612': (129.125, 0, 17), '1320#122617': (352.1499375000001, 0, 42), '1580#141083': (257.0300625, 0, 54), '1580#141084': (227.25000000000003, 0, 51), '1995#1826': (164.43506250000002, 0, 27), '1995#1836': (142.08499999999998, 0, 15), '1995#1837': (177.23506250000003, 0, 30), '2094#142345': (485.64499999999975, 0, 61), '2300#131720': (491.195, 0, 42), '237#126133': (166.965, 0, 26), '237#134493': (115.01500000000001, 0, 19), '237#134500': (199.50493749999998, 0, 43), '260#123286': (173.63, 0, 32), '260#123288': (204.04506250000006, 0, 29), '260#123440': (105.43999999999998, 0, 21), '2830#3979': (92.1450625, 0, 13), '2830#3980': (390.30506249999996, 0, 77), '2961#960': (281.9850625, 0, 23), '2961#961': (202.08999999999997, 0, 23), '3570#5694': (223.76500000000001, 0, 23), '3570#5695': (143.245, 0, 16), '3570#5696': (115.85, 0, 11), '3575#170457': (483.6251874999999, 0, 57), '3729#6852': (481.68999999999994, 0, 47), '4077#13751': (273.26000000000005, 0, 22), '4077#13754': (215.21493750000005, 0, 17), '4446#2271': (123.715, 0, 25), '4446#2273': (171.445, 0, 37), '4446#2275': (184.99000000000004, 0, 46), '4507#16021': (483.295, 0, 60), '4970#29093': (210.885, 0, 24), '4970#29095': (278.30999999999995, 0, 39), '4992#23283': (144.42499999999998, 0, 21), '4992#41797': (175.83499999999998, 0, 23), '4992#41806': (172.08, 0, 18), '5105#28233': (118.78500000000001, 0, 11), '5105#28240': (178.54506250000003, 0, 25), '5105#28241': (190.12999999999997, 0, 20), '5142#33396': (264.015, 0, 69), '5142#36377': (180.70000000000002, 0, 26), '5142#36586': (16.82, 0, 5), '5142#36600': (22.709999999999997, 0, 2), '5639#40744': (496.68993750000004, 0, 42), '5683#32865': (110.53999999999999, 0, 18), '5683#32866': (186.905, 0, 31), '5683#32879': (183.075, 0, 26), '61#70968': (280.99493750000005, 0, 63), '61#70970': (203.58999999999997, 0, 41), '672#122797': (496.1649999999999, 0, 75), '6829#68769': (247.80499999999998, 0, 54), '6829#68771': (246.655, 0, 37), '6930#75918': (178.88506249999998, 0, 21), '6930#76324': (149.38000000000002, 0, 29), '6930#81414': (151.785, 0, 28), '7021#79730': (123.6, 0, 10), '7021#79740': (122.05000000000001, 0, 15), '7021#79759': (54.614999999999995, 0, 6), '7021#85628': (188.22500000000002, 0, 28), '7127#75946': (235.74, 0, 30), '7127#75947': (263.26493750000003, 0, 41), '7176#88083': (203.575, 0, 28), '7176#92135': (279.87000000000006, 0, 46), '7729#102255': (489.94506250000006, 0, 47), '8224#274381': (331.1649999999999, 0, 18), '8224#274384': (163.4, 0, 14), '8230#279154': (494.80000000000007, 0, 44), '8455#210777': (481.8549999999999, 0, 71), '8463#287645': (113.235, 0, 15), '8463#294825': (147.72499999999997, 0, 20), '8463#294828': (222.06, 0, 39), '8555#284447': (190.46506250000007, 0, 25), '8555#284449': (160.62500000000003, 0, 21), '8555#292519': (130.99499999999998, 0, 16), '908#157963': (266.47999999999996, 0, 31), '908#31957': (216.35, 0, 26)}\n"
     ]
    }
   ],
   "execution_count": 6
  },
  {
   "metadata": {
    "ExecuteTime": {
     "end_time": "2025-07-09T04:23:13.842047Z",
     "start_time": "2025-07-09T04:23:13.833246Z"
    }
   },
   "cell_type": "code",
   "source": [
    "# sort by total duration\n",
    "speakerchapter_dict = dict(sorted(speakerchapter_dict.items(), key=lambda item: item[1], reverse=True))\n",
    "speakerchapter_dict"
   ],
   "id": "e322a621f4937968",
   "outputs": [
    {
     "data": {
      "text/plain": [
       "{'5639#40744': (496.68993750000004, 0, 42),\n",
       " '672#122797': (496.1649999999999, 0, 75),\n",
       " '8230#279154': (494.80000000000007, 0, 44),\n",
       " '1188#133604': (491.93493750000016, 0, 45),\n",
       " '2300#131720': (491.195, 0, 42),\n",
       " '7729#102255': (489.94506250000006, 0, 47),\n",
       " '2094#142345': (485.64499999999975, 0, 61),\n",
       " '3575#170457': (483.6251874999999, 0, 57),\n",
       " '4507#16021': (483.295, 0, 60),\n",
       " '8455#210777': (481.8549999999999, 0, 71),\n",
       " '3729#6852': (481.68999999999994, 0, 47),\n",
       " '2830#3980': (390.30506249999996, 0, 77),\n",
       " '1320#122617': (352.1499375000001, 0, 42),\n",
       " '8224#274381': (331.1649999999999, 0, 18),\n",
       " '1221#135767': (307.745, 0, 25),\n",
       " '2961#960': (281.9850625, 0, 23),\n",
       " '61#70968': (280.99493750000005, 0, 63),\n",
       " '7176#92135': (279.87000000000006, 0, 46),\n",
       " '4970#29095': (278.30999999999995, 0, 39),\n",
       " '1089#134686': (276.21006250000005, 0, 38),\n",
       " '4077#13751': (273.26000000000005, 0, 22),\n",
       " '908#157963': (266.47999999999996, 0, 31),\n",
       " '5142#33396': (264.015, 0, 69),\n",
       " '7127#75947': (263.26493750000003, 0, 41),\n",
       " '1580#141083': (257.0300625, 0, 54),\n",
       " '6829#68769': (247.80499999999998, 0, 54),\n",
       " '6829#68771': (246.655, 0, 37),\n",
       " '7127#75946': (235.74, 0, 30),\n",
       " '121#127105': (231.69499999999996, 0, 37),\n",
       " '1284#1180': (227.9, 0, 33),\n",
       " '1580#141084': (227.25000000000003, 0, 51),\n",
       " '3570#5694': (223.76500000000001, 0, 23),\n",
       " '8463#294828': (222.06, 0, 39),\n",
       " '908#31957': (216.35, 0, 26),\n",
       " '4077#13754': (215.21493750000005, 0, 17),\n",
       " '4970#29093': (210.885, 0, 24),\n",
       " '1089#134691': (206.8500625, 0, 26),\n",
       " '260#123288': (204.04506250000006, 0, 29),\n",
       " '61#70970': (203.58999999999997, 0, 41),\n",
       " '7176#88083': (203.575, 0, 28),\n",
       " '2961#961': (202.08999999999997, 0, 23),\n",
       " '237#134500': (199.50493749999998, 0, 43),\n",
       " '8555#284447': (190.46506250000007, 0, 25),\n",
       " '5105#28241': (190.12999999999997, 0, 20),\n",
       " '7021#85628': (188.22500000000002, 0, 28),\n",
       " '5683#32866': (186.905, 0, 31),\n",
       " '4446#2275': (184.99000000000004, 0, 46),\n",
       " '5683#32879': (183.075, 0, 26),\n",
       " '5142#36377': (180.70000000000002, 0, 26),\n",
       " '6930#75918': (178.88506249999998, 0, 21),\n",
       " '5105#28240': (178.54506250000003, 0, 25),\n",
       " '1995#1837': (177.23506250000003, 0, 30),\n",
       " '1221#135766': (176.6, 0, 16),\n",
       " '4992#41797': (175.83499999999998, 0, 23),\n",
       " '260#123286': (173.63, 0, 32),\n",
       " '4992#41806': (172.08, 0, 18),\n",
       " '4446#2273': (171.445, 0, 37),\n",
       " '237#126133': (166.965, 0, 26),\n",
       " '1995#1826': (164.43506250000002, 0, 27),\n",
       " '8224#274384': (163.4, 0, 14),\n",
       " '8555#284449': (160.62500000000003, 0, 21),\n",
       " '6930#81414': (151.785, 0, 28),\n",
       " '6930#76324': (149.38000000000002, 0, 29),\n",
       " '8463#294825': (147.72499999999997, 0, 20),\n",
       " '1284#1181': (146.97999999999996, 0, 22),\n",
       " '4992#23283': (144.42499999999998, 0, 21),\n",
       " '3570#5695': (143.245, 0, 16),\n",
       " '1995#1836': (142.08499999999998, 0, 15),\n",
       " '8555#292519': (130.99499999999998, 0, 16),\n",
       " '1320#122612': (129.125, 0, 17),\n",
       " '4446#2271': (123.715, 0, 25),\n",
       " '7021#79730': (123.6, 0, 10),\n",
       " '7021#79740': (122.05000000000001, 0, 15),\n",
       " '5105#28233': (118.78500000000001, 0, 11),\n",
       " '3570#5696': (115.85, 0, 11),\n",
       " '237#134493': (115.01500000000001, 0, 19),\n",
       " '1284#134647': (114.5550625, 0, 8),\n",
       " '8463#287645': (113.235, 0, 15),\n",
       " '5683#32865': (110.53999999999999, 0, 18),\n",
       " '260#123440': (105.43999999999998, 0, 21),\n",
       " '121#123859': (93.15499999999999, 0, 5),\n",
       " '2830#3979': (92.1450625, 0, 13),\n",
       " '121#121726': (79.09, 0, 15),\n",
       " '121#123852': (76.64500000000001, 0, 5),\n",
       " '7021#79759': (54.614999999999995, 0, 6),\n",
       " '5142#36600': (22.709999999999997, 0, 2),\n",
       " '5142#36586': (16.82, 0, 5)}"
      ]
     },
     "execution_count": 7,
     "metadata": {},
     "output_type": "execute_result"
    }
   ],
   "execution_count": 7
  },
  {
   "metadata": {
    "ExecuteTime": {
     "end_time": "2025-07-09T04:23:15.688934Z",
     "start_time": "2025-07-09T04:23:15.681825Z"
    }
   },
   "cell_type": "code",
   "source": [
    "heap = [(-dur, key) for key, (dur, _, _) in speakerchapter_dict.items()]\n",
    "heapq.heapify(heap)\n",
    "long_entities = []"
   ],
   "id": "7739dd0fba9fdffc",
   "outputs": [],
   "execution_count": 8
  },
  {
   "metadata": {
    "ExecuteTime": {
     "end_time": "2025-07-09T06:23:53.035563Z",
     "start_time": "2025-07-09T06:23:53.033529Z"
    }
   },
   "cell_type": "code",
   "source": "",
   "id": "379c39b25add2555",
   "outputs": [],
   "execution_count": null
  },
  {
   "metadata": {
    "ExecuteTime": {
     "end_time": "2025-07-09T04:23:17.259321Z",
     "start_time": "2025-07-09T04:23:17.256165Z"
    }
   },
   "cell_type": "code",
   "source": [
    "def get_audio_file_name(key, used_seg):\n",
    "    speaker = key.split('#')[0]\n",
    "    chapter = key.split('#')[1]\n",
    "    return os.path.join(speaker, chapter, f\"{speaker}-{chapter}-{used_seg:04d}.flac\")\n",
    "\n",
    "def get_transcribe(key, used_seg):\n",
    "    speaker = key.split('#')[0]\n",
    "    chapter = key.split('#')[1]\n",
    "    fileindex = f\"{speaker}-{chapter}-{used_seg:04d}\"\n",
    "    transcribe_path = os.path.join(INPUTDIR, speaker, chapter, f\"{speaker}-{chapter}.trans.txt\")\n",
    "    with open(transcribe_path, 'r', encoding='utf-8') as f:\n",
    "        for line in f:\n",
    "            if line.startswith(fileindex):\n",
    "                return line.strip().split(' ', 1)[1]\n",
    "    return None\n",
    "\n",
    "\n"
   ],
   "id": "14c575de0ff22943",
   "outputs": [],
   "execution_count": 9
  },
  {
   "metadata": {
    "ExecuteTime": {
     "end_time": "2025-07-09T06:03:24.476696Z",
     "start_time": "2025-07-09T06:03:24.441921Z"
    }
   },
   "cell_type": "code",
   "source": "MAX_PARTS = 5",
   "id": "a2bbe434658fdf36",
   "outputs": [],
   "execution_count": 13
  },
  {
   "metadata": {
    "ExecuteTime": {
     "end_time": "2025-07-09T06:26:00.868838Z",
     "start_time": "2025-07-09T06:26:00.845380Z"
    }
   },
   "cell_type": "code",
   "source": [
    "with OUT_FILE_NAME.open(\"a\") as output_f:\n",
    "    while heap:                                  # ❶ 堆里还有章节\n",
    "        ent = LibriSpeechEntity(next(counter))   # 先建一条长音频\n",
    "\n",
    "        # ❷ 不断取“剩余最长”的 chapter 给同一条 entity 填料\n",
    "        while len(ent.components) < MAX_PARTS and heap:\n",
    "            neg_dur, key = heapq.heappop(heap)\n",
    "            remain_dur, used_seg, total_seg = speakerchapter_dict[key]\n",
    "            speaker, chapter = key.split('#')\n",
    "\n",
    "            while used_seg <= total_seg and len(ent.components) < MAX_PARTS:\n",
    "                filename   = f\"{speaker}-{chapter}-{used_seg:04d}.flac\"\n",
    "                audio_path = os.path.join(INPUTDIR, speaker, chapter, filename)\n",
    "                audio, src = librosa.load(audio_path, sr=SAMPLE_RATE)\n",
    "                text       = get_transcribe(key, used_seg)\n",
    "\n",
    "                if not ent.appendaudio(audio, text, filename):\n",
    "                    break\n",
    "\n",
    "                seg_len_sec  = len(audio) / SAMPLE_RATE\n",
    "                remain_dur  -= seg_len_sec\n",
    "                used_seg    += 1\n",
    "\n",
    "            # ----- 废物利用 -----\n",
    "            speakerchapter_dict[key] = (remain_dur, used_seg, total_seg)\n",
    "            if used_seg <= total_seg:                     # 章里还有料\n",
    "                heapq.heappush(heap, (-remain_dur, key))\n",
    "\n",
    "\n",
    "        if ent.finished:\n",
    "            wav_path = ent.export_wav()\n",
    "            output_f.write(ent.get_metadata() + \"\\n\")\n",
    "            print(f\"[OK] {wav_path}  {ent.duration_sec:.1f}s  {len(ent.components)} seg\")\n",
    "        else:\n",
    "            break"
   ],
   "id": "4d86e3bbc185ff10",
   "outputs": [
    {
     "ename": "AttributeError",
     "evalue": "'str' object has no attribute 'open'",
     "output_type": "error",
     "traceback": [
      "\u001B[0;31m---------------------------------------------------------------------------\u001B[0m",
      "\u001B[0;31mAttributeError\u001B[0m                            Traceback (most recent call last)",
      "Cell \u001B[0;32mIn[25], line 1\u001B[0m\n\u001B[0;32m----> 1\u001B[0m \u001B[38;5;28;01mwith\u001B[39;00m \u001B[43mOUT_FILE_NAME\u001B[49m\u001B[38;5;241;43m.\u001B[39;49m\u001B[43mopen\u001B[49m(\u001B[38;5;124m\"\u001B[39m\u001B[38;5;124ma\u001B[39m\u001B[38;5;124m\"\u001B[39m) \u001B[38;5;28;01mas\u001B[39;00m output_f:\n\u001B[1;32m      2\u001B[0m     \u001B[38;5;28;01mwhile\u001B[39;00m heap:                                  \u001B[38;5;66;03m# ❶ 堆里还有章节\u001B[39;00m\n\u001B[1;32m      3\u001B[0m         ent \u001B[38;5;241m=\u001B[39m LibriSpeechEntity(\u001B[38;5;28mnext\u001B[39m(counter))   \u001B[38;5;66;03m# 先建一条长音频\u001B[39;00m\n",
      "\u001B[0;31mAttributeError\u001B[0m: 'str' object has no attribute 'open'"
     ]
    }
   ],
   "execution_count": 25
  }
 ],
 "metadata": {
  "kernelspec": {
   "display_name": "Python 3",
   "language": "python",
   "name": "python3"
  },
  "language_info": {
   "codemirror_mode": {
    "name": "ipython",
    "version": 2
   },
   "file_extension": ".py",
   "mimetype": "text/x-python",
   "name": "python",
   "nbconvert_exporter": "python",
   "pygments_lexer": "ipython2",
   "version": "2.7.6"
  }
 },
 "nbformat": 4,
 "nbformat_minor": 5
}
