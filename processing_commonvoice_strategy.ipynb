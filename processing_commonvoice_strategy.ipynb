{
 "cells": [
  {
   "cell_type": "code",
   "id": "initial_id",
   "metadata": {
    "collapsed": true,
    "ExecuteTime": {
     "end_time": "2025-07-17T02:44:27.378836Z",
     "start_time": "2025-07-17T02:44:27.298502Z"
    }
   },
   "source": [
    "import os\n",
    "import sqlite3\n",
    "import faiss\n",
    "import numpy as np\n",
    "from bitarray import bitarray\n",
    "from lhotse import CutSet\n",
    "from tqdm import tqdm\n",
    "from util import *\n",
    "import faiss, numpy as np, multiprocessing as mp\n",
    "import librosa\n",
    "from sklearn.decomposition import PCA"
   ],
   "outputs": [],
   "execution_count": 8
  },
  {
   "metadata": {
    "ExecuteTime": {
     "end_time": "2025-07-17T02:44:30.609108Z",
     "start_time": "2025-07-17T02:44:30.606142Z"
    }
   },
   "cell_type": "code",
   "source": [
    "IN_DIR = \"../datasets/LongSpeechSource/voxpopuli\"\n",
    "IN_DIR = \"/mnt/d/voicedata/CommenVoice/delta\"\n",
    "# directory paths to save metadata and processed aduio files\n",
    "OUT_DIR = '../datasets/LongSpeech'"
   ],
   "id": "26efe29e64b6f046",
   "outputs": [],
   "execution_count": 9
  },
  {
   "metadata": {
    "ExecuteTime": {
     "end_time": "2025-07-17T02:44:33.114229Z",
     "start_time": "2025-07-17T02:44:33.106841Z"
    }
   },
   "cell_type": "code",
   "source": [
    "def build_feature(cuts: CutSet, batch_size: int = 100, dim: int = 384):\n",
    "    cut_list = cuts.to_eager()\n",
    "    n = len(cut_list)\n",
    "\n",
    "    vec_mm = np.memmap(f\"{OUT_DIR}/vecs.f32\", dtype=\"float32\", mode=\"w+\", shape=(n, dim))\n",
    "    dur_mm = np.memmap(f\"{OUT_DIR}/durs.f32\", dtype=\"float32\", mode=\"w+\", shape=(n,))\n",
    "\n",
    "    string_ids = []\n",
    "\n",
    "    ptr = 0\n",
    "    for i in tqdm(range(0, n, batch_size), desc=\"Get Embedding\"):\n",
    "        cut_batch = cut_list[i:i+batch_size]\n",
    "\n",
    "        texts = [c.supervisions[0].text if c.supervisions else \"\" for c in cut_batch]\n",
    "        durations = [c.duration for c in cut_batch]\n",
    "        string_ids.extend([c.id for c in cut_batch])\n",
    "\n",
    "        vec_np = get_sentence_embeddings(texts).astype(\"float32\")\n",
    "        B = len(cut_batch)\n",
    "\n",
    "        vec_mm[ptr:ptr+B] = vec_np\n",
    "        dur_mm[ptr:ptr+B] = durations\n",
    "        ptr += B\n",
    "\n",
    "    vec_mm.flush(); dur_mm.flush()\n",
    "\n",
    "    return vec_mm, dur_mm, string_ids"
   ],
   "id": "f7ab97d63af591ee",
   "outputs": [],
   "execution_count": 10
  },
  {
   "metadata": {
    "ExecuteTime": {
     "end_time": "2025-07-17T02:35:23.633237Z",
     "start_time": "2025-07-17T02:35:22.454966Z"
    }
   },
   "cell_type": "code",
   "source": [
    "cuts = CutSet.from_jsonl(os.path.join(OUT_DIR, \"commonvoice_raw_cuts.jsonl\"))\n",
    "vec_mm, dur_mm, string_ids = build_feature(cuts)"
   ],
   "id": "b5a94abc4020d7ec",
   "outputs": [
    {
     "name": "stderr",
     "output_type": "stream",
     "text": [
      "Get Embedding: 100%|██████████| 2/2 [00:01<00:00,  1.84it/s]\n"
     ]
    }
   ],
   "execution_count": 4
  },
  {
   "metadata": {
    "ExecuteTime": {
     "end_time": "2025-07-17T02:35:26.620598Z",
     "start_time": "2025-07-17T02:35:26.615869Z"
    }
   },
   "cell_type": "code",
   "source": [
    "def build_hnsw_index(vec_mm: np.memmap,\n",
    "                     dim: int = 384,\n",
    "                     m: int = 32,\n",
    "                     ef_c: int = 200,\n",
    "                     n_threads: int = mp.cpu_count(),\n",
    "                     out_path: str = \"cache_hnsw.faiss\"):\n",
    "\n",
    "    faiss.omp_set_num_threads(n_threads)\n",
    "    faiss.normalize_L2(vec_mm)\n",
    "\n",
    "    index = faiss.IndexHNSWFlat(dim, m)\n",
    "    index.hnsw.efConstruction = ef_c\n",
    "    index.metric_type = faiss.METRIC_INNER_PRODUCT\n",
    "\n",
    "    index.add(vec_mm)\n",
    "    faiss.write_index(index, os.path.join(OUT_DIR,out_path))\n",
    "    return os.path.join(OUT_DIR,out_path)"
   ],
   "id": "e1cefa5ff35cb639",
   "outputs": [],
   "execution_count": 5
  },
  {
   "metadata": {
    "ExecuteTime": {
     "end_time": "2025-07-17T02:35:30.805634Z",
     "start_time": "2025-07-17T02:35:30.747855Z"
    }
   },
   "cell_type": "code",
   "source": "index_path = build_hnsw_index(vec_mm)",
   "id": "559989c031ff39f9",
   "outputs": [],
   "execution_count": 6
  },
  {
   "metadata": {
    "ExecuteTime": {
     "end_time": "2025-07-17T02:52:47.599481Z",
     "start_time": "2025-07-17T02:52:46.112629Z"
    }
   },
   "cell_type": "code",
   "source": [
    "def get_speaker_embedding_ids(ids, neighs, cuts):\n",
    "    \"\"\"\n",
    "    获取邻居的说话人ID\n",
    "    Returns:\n",
    "        speaker_embeddings: (batch_num, feature_dim)\n",
    "    \"\"\"\n",
    "    speaker_embeddings = []\n",
    "    for idx in neighs:\n",
    "        if idx == -1:\n",
    "            break\n",
    "        real_id = ids[idx]\n",
    "        cut_pth = cuts[real_id].recording.sources[0].source\n",
    "        audio, sr = librosa.load(cut_pth)\n",
    "        speaker_embeddings.append(get_speaker_embedding(audio, sr).flatten())\n",
    "\n",
    "    spk_emb_np = np.array(speaker_embeddings)\n",
    "    pc1 = PCA(n_components=1, svd_solver=\"auto\").fit_transform(spk_emb_np).ravel()\n",
    "    return np.argsort(pc1)\n",
    "\n",
    "print(get_speaker_embedding_ids(string_ids, [0, 2, 4, 6, 8], cuts))"
   ],
   "id": "37fb5042cf9c0db7",
   "outputs": [
    {
     "name": "stdout",
     "output_type": "stream",
     "text": [
      "[0 3 4 1 2]\n"
     ]
    }
   ],
   "execution_count": 16
  },
  {
   "metadata": {
    "ExecuteTime": {
     "end_time": "2025-07-17T03:04:59.220451Z",
     "start_time": "2025-07-17T03:03:29.226651Z"
    }
   },
   "cell_type": "code",
   "source": [
    "def greedy_cluster(index_path: str,\n",
    "                   vec_mm: np.memmap,\n",
    "                   dur_mm: np.memmap,\n",
    "                   ids,\n",
    "                   cuts,\n",
    "                   bucket_min: int = 300,\n",
    "                   bucket_avg: int = 600,\n",
    "                   k_neigh: int = 1024,\n",
    "                   ef_s: int = 96):\n",
    "    index = faiss.read_index(index_path)\n",
    "\n",
    "    params = faiss.SearchParametersHNSW()\n",
    "    params.efSearch = ef_s\n",
    "    \n",
    "    N = len(vec_mm)\n",
    "    assigned = bitarray(N)\n",
    "    assigned.setall(False)\n",
    "\n",
    "    order = np.argsort(-dur_mm)\n",
    "    buckets = []\n",
    "\n",
    "    for seed in tqdm(order, desc=\"Clustering (Optimized)\"):\n",
    "        if assigned[seed]:\n",
    "            continue\n",
    "\n",
    "        cluster = []\n",
    "        total_dur = 0\n",
    "\n",
    "        unassigned_indices_list = assigned.search(bitarray('0'))\n",
    "        unassigned_indices = np.fromiter(unassigned_indices_list, dtype=np.int64)\n",
    "\n",
    "\n",
    "        if len(unassigned_indices) > 0:\n",
    "            selector = faiss.IDSelectorArray(unassigned_indices)\n",
    "            params.sel = selector\n",
    "\n",
    "            _, neighs = index.search(vec_mm[seed : seed + 1], k_neigh, params=params)\n",
    "\n",
    "            speaker_order = get_speaker_embedding_ids(ids, neighs[0].tolist(), cuts)\n",
    "            #print(speaker_order)\n",
    "\n",
    "            for idx2 in speaker_order:\n",
    "                idx = neighs[0][idx2]\n",
    "                if idx == -1:\n",
    "                    break\n",
    "                if assigned[idx]:\n",
    "                    print(\"Warning: Already assigned index\", idx)\n",
    "                    continue\n",
    "\n",
    "                cluster.append(int(idx))\n",
    "                assigned[idx] = True\n",
    "                total_dur += dur_mm[idx]\n",
    "                if total_dur >= bucket_avg:\n",
    "                    break\n",
    "\n",
    "            if total_dur < bucket_min:\n",
    "                for i in cluster:\n",
    "                    assigned[i] = False\n",
    "            else:\n",
    "                total_dur = dur_mm[cluster].sum()\n",
    "                buckets.append((cluster, total_dur))\n",
    "\n",
    "    final_buckets = [b for b in buckets if b[1] >= bucket_min]\n",
    "    final_clusters = [c for c, _ in final_buckets]\n",
    "    final_duration = sum(sec for _, sec in final_buckets)\n",
    "\n",
    "    loss = 1 - final_duration / dur_mm.sum()\n",
    "    print(f\"桶数 {len(final_clusters)}, 最终时长 {final_duration:.2f}s, 总时长 {dur_mm.sum():.2f}s, 丢弃比例 {loss:.2%}\")\n",
    "\n",
    "    strategy = []\n",
    "    for cluster in final_clusters:\n",
    "        strategy.append([ids[i] for i in cluster])\n",
    "\n",
    "    return strategy\n",
    "greedy_cluster(index_path, vec_mm, dur_mm, string_ids, cuts)"
   ],
   "id": "25e3e82b49a56ca3",
   "outputs": [
    {
     "name": "stderr",
     "output_type": "stream",
     "text": [
      "Clustering (Optimized):   1%|          | 1/168 [01:03<2:56:23, 63.37s/it]"
     ]
    },
    {
     "name": "stdout",
     "output_type": "stream",
     "text": [
      "[ 12  92  24 115   5   9 120 138 129 119 130  51  95  30  10  74 134 126\n",
      "  88  39 135 128 162 159 110 112 148 103  65  47  71  69  45  60  70  83\n",
      "  17  16 105  78  86  75  77   2  34  33   0 102 140 163  81 109  55  98\n",
      "  76  73  46 141  20 157  85 104  26  23  52 133  84 142 164 137  40  63\n",
      "  97 114 149   1 143 122 116   4  57 165 158  27 131  14 144 111  62 145\n",
      "   6 150  91   3 160 154  18  28  31  96 147  68  19 152 107 118  25 127\n",
      " 125 153 132  50  80 146  42  93  66 156  72 166  64  89  21 117  15 151\n",
      " 108  43  49 101  35 113 106   8  99  53  61  56  11  13  44  32  37 124\n",
      "  94  41  67  59  54  22  90 100  79 136 123   7  36  82  48 155 121 139\n",
      " 167  29  87 161  38  58]\n"
     ]
    },
    {
     "name": "stderr",
     "output_type": "stream",
     "text": [
      "Clustering (Optimized): 100%|██████████| 168/168 [01:29<00:00,  1.87it/s]"
     ]
    },
    {
     "name": "stdout",
     "output_type": "stream",
     "text": [
      "[14 44 20 22 11 39  2 63 29 35 27 64 42 51  7 59 46 21 54 52 10  4 45 66\n",
      "  9  0 19 48 26 58 12 33  8 61 36 37 31  5  6 24 62 65 49 57 40  1 32 15\n",
      " 47 25 17 34 13 28  3 30 60 38 16 43 23 50 67 18 56 41 55 53]\n",
      "桶数 2, 最终时长 1027.54s, 总时长 1027.54s, 丢弃比例 0.00%\n"
     ]
    },
    {
     "name": "stderr",
     "output_type": "stream",
     "text": [
      "\n"
     ]
    },
    {
     "data": {
      "text/plain": [
       "[['common_voice_en_42788438-96',\n",
       "  'common_voice_en_42807958-114',\n",
       "  'common_voice_en_42788567-98',\n",
       "  'common_voice_en_42791979-48',\n",
       "  'common_voice_en_42814003-56',\n",
       "  'common_voice_en_42814559-63',\n",
       "  'common_voice_en_42814462-62',\n",
       "  'common_voice_en_42814024-57',\n",
       "  'common_voice_en_42807943-113',\n",
       "  'common_voice_en_42797769-55',\n",
       "  'common_voice_en_42808017-116',\n",
       "  'common_voice_en_42807963-115',\n",
       "  'common_voice_en_42788519-97',\n",
       "  'common_voice_en_42815757-73',\n",
       "  'common_voice_en_42798328-2',\n",
       "  'common_voice_en_42787815-33',\n",
       "  'common_voice_en_42806811-20',\n",
       "  'common_voice_en_42789325-44',\n",
       "  'common_voice_en_42814267-53',\n",
       "  'common_voice_en_42791629-11',\n",
       "  'common_voice_en_42814135-32',\n",
       "  'common_voice_en_42713893-146',\n",
       "  'common_voice_en_42815717-72',\n",
       "  'common_voice_en_42812836-49',\n",
       "  'common_voice_en_42812198-59',\n",
       "  'common_voice_en_42752135-7',\n",
       "  'common_voice_en_42799557-8',\n",
       "  'common_voice_en_42840257-136',\n",
       "  'common_voice_en_42805882-14',\n",
       "  'common_voice_en_42767185-39',\n",
       "  'common_voice_en_43225233-45',\n",
       "  'common_voice_en_43199085-82',\n",
       "  'common_voice_en_43196647-130',\n",
       "  'common_voice_en_42896173-123',\n",
       "  'common_voice_en_42817051-13',\n",
       "  'common_voice_en_42840268-137',\n",
       "  'common_voice_en_42751082-16',\n",
       "  'common_voice_en_42750361-38',\n",
       "  'common_voice_en_42840222-133',\n",
       "  'common_voice_en_43196441-128',\n",
       "  'common_voice_en_42902449-125',\n",
       "  'common_voice_en_42896222-124',\n",
       "  'common_voice_en_42713890-145',\n",
       "  'common_voice_en_43199122-83',\n",
       "  'common_voice_en_42809713-28',\n",
       "  'common_voice_en_42816897-24',\n",
       "  'common_voice_en_43406505-52',\n",
       "  'common_voice_en_42727484-148',\n",
       "  'common_voice_en_43196719-131',\n",
       "  'common_voice_en_42727489-149',\n",
       "  'common_voice_en_42785961-60',\n",
       "  'common_voice_en_42904506-152',\n",
       "  'common_voice_en_42906370-126',\n",
       "  'common_voice_en_43375393-81',\n",
       "  'common_voice_en_42840194-132',\n",
       "  'common_voice_en_42763081-51',\n",
       "  'common_voice_en_42706516-86',\n",
       "  'common_voice_en_42831673-65',\n",
       "  'common_voice_en_42840233-134',\n",
       "  'common_voice_en_42727472-147',\n",
       "  'common_voice_en_43196465-129',\n",
       "  'common_voice_en_42840237-135',\n",
       "  'common_voice_en_42812009-58',\n",
       "  'common_voice_en_42727509-151',\n",
       "  'common_voice_en_42726291-34',\n",
       "  'common_voice_en_42727505-150',\n",
       "  'common_voice_en_42831657-64',\n",
       "  'common_voice_en_42773525-107',\n",
       "  'common_voice_en_43188894-54',\n",
       "  'common_voice_en_43196392-127',\n",
       "  'common_voice_en_42810263-31',\n",
       "  'common_voice_en_42753835-22',\n",
       "  'common_voice_en_43205504-142',\n",
       "  'common_voice_en_42706513-85',\n",
       "  'common_voice_en_42808952-26',\n",
       "  'common_voice_en_42736613-1',\n",
       "  'common_voice_en_43173951-75',\n",
       "  'common_voice_en_43203251-68',\n",
       "  'common_voice_en_43205612-144',\n",
       "  'common_voice_en_42699890-91',\n",
       "  'common_voice_en_42773512-106',\n",
       "  'common_voice_en_42712838-17',\n",
       "  'common_voice_en_43210061-158',\n",
       "  'common_voice_en_42699872-90',\n",
       "  'common_voice_en_42730925-21',\n",
       "  'common_voice_en_43205073-138',\n",
       "  'common_voice_en_42975589-77',\n",
       "  'common_voice_en_43160566-74',\n",
       "  'common_voice_en_42745074-47',\n",
       "  'common_voice_en_42975525-76',\n",
       "  'common_voice_en_42773510-105',\n",
       "  'common_voice_en_43375391-80',\n",
       "  'common_voice_en_43210015-156',\n",
       "  'common_voice_en_42706510-84',\n",
       "  'common_voice_en_43196248-41',\n",
       "  'common_voice_en_43203326-69',\n",
       "  'common_voice_en_43205086-139',\n",
       "  'common_voice_en_42765024-70',\n",
       "  'common_voice_en_42699891-92',\n",
       "  'common_voice_en_42816075-30'],\n",
       " ['common_voice_en_43208189-88',\n",
       "  'common_voice_en_43209751-154',\n",
       "  'common_voice_en_43210070-159',\n",
       "  'common_voice_en_43209768-155',\n",
       "  'common_voice_en_43205365-141',\n",
       "  'common_voice_en_43210057-157',\n",
       "  'common_voice_en_43205195-140',\n",
       "  'common_voice_en_43195537-67',\n",
       "  'common_voice_en_42744683-46',\n",
       "  'common_voice_en_43004302-95',\n",
       "  'common_voice_en_43208290-89',\n",
       "  'common_voice_en_43202293-36',\n",
       "  'common_voice_en_42706055-4',\n",
       "  'common_voice_en_42711900-29',\n",
       "  'common_voice_en_43209749-153',\n",
       "  'common_voice_en_43205507-143',\n",
       "  'common_voice_en_43004194-93',\n",
       "  'common_voice_en_43193788-35',\n",
       "  'common_voice_en_42832667-102',\n",
       "  'common_voice_en_43004225-94',\n",
       "  'common_voice_en_42706159-117',\n",
       "  'common_voice_en_43208180-87',\n",
       "  'common_voice_en_43217992-160',\n",
       "  'common_voice_en_42736425-100',\n",
       "  'common_voice_en_43200118-12',\n",
       "  'common_voice_en_42727108-10',\n",
       "  'common_voice_en_42706202-121',\n",
       "  'common_voice_en_43195536-66',\n",
       "  'common_voice_en_42743792-109',\n",
       "  'common_voice_en_42943363-50',\n",
       "  'common_voice_en_42736392-99',\n",
       "  'common_voice_en_42835670-43',\n",
       "  'common_voice_en_42706169-119',\n",
       "  'common_voice_en_42706181-120',\n",
       "  'common_voice_en_42736426-101',\n",
       "  'common_voice_en_42743805-110',\n",
       "  'common_voice_en_43204215-3',\n",
       "  'common_voice_en_42743845-112',\n",
       "  'common_voice_en_42832669-103',\n",
       "  'common_voice_en_42832684-104',\n",
       "  'common_voice_en_42743825-111',\n",
       "  'common_voice_en_43193984-40',\n",
       "  'common_voice_en_43168920-27',\n",
       "  'common_voice_en_43197727-18',\n",
       "  'common_voice_en_43203141-42',\n",
       "  'common_voice_en_43211755-23',\n",
       "  'common_voice_en_42706160-118',\n",
       "  'common_voice_en_43193287-9',\n",
       "  'common_voice_en_43204237-37',\n",
       "  'common_voice_en_43193311-15',\n",
       "  'common_voice_en_43139615-5',\n",
       "  'common_voice_en_43198570-19',\n",
       "  'common_voice_en_42830129-25',\n",
       "  'common_voice_en_43199993-0',\n",
       "  'common_voice_en_43196525-6',\n",
       "  'common_voice_en_42773561-108',\n",
       "  'common_voice_en_42977065-79',\n",
       "  'common_voice_en_42765051-71',\n",
       "  'common_voice_en_42970620-78',\n",
       "  'common_voice_en_42833994-165',\n",
       "  'common_voice_en_42844917-169',\n",
       "  'common_voice_en_42844912-168',\n",
       "  'common_voice_en_42844892-166',\n",
       "  'common_voice_en_42833542-161',\n",
       "  'common_voice_en_42833966-162',\n",
       "  'common_voice_en_42833970-163',\n",
       "  'common_voice_en_42844893-167',\n",
       "  'common_voice_en_42833981-164']]"
      ]
     },
     "execution_count": 21,
     "metadata": {},
     "output_type": "execute_result"
    }
   ],
   "execution_count": 21
  }
 ],
 "metadata": {
  "kernelspec": {
   "display_name": "Python 3",
   "language": "python",
   "name": "python3"
  },
  "language_info": {
   "codemirror_mode": {
    "name": "ipython",
    "version": 2
   },
   "file_extension": ".py",
   "mimetype": "text/x-python",
   "name": "python",
   "nbconvert_exporter": "python",
   "pygments_lexer": "ipython2",
   "version": "2.7.6"
  }
 },
 "nbformat": 4,
 "nbformat_minor": 5
}
