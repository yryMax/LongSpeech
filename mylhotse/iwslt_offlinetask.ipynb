{
 "cells": [
  {
   "cell_type": "code",
   "id": "initial_id",
   "metadata": {
    "collapsed": true,
    "ExecuteTime": {
     "end_time": "2025-07-23T01:18:41.790012Z",
     "start_time": "2025-07-23T01:18:41.774149Z"
    }
   },
   "source": [
    "import logging\n",
    "import re\n",
    "import string\n",
    "from concurrent.futures.thread import ThreadPoolExecutor\n",
    "from pathlib import Path\n",
    "from typing import Dict, Iterable, List, Optional, Union\n",
    "from datasets import load_dataset\n",
    "import tqdm\n",
    "from itertools import chain\n",
    "from lhotse import (\n",
    "    AudioSource,\n",
    "    Recording,\n",
    "    RecordingSet,\n",
    "    SupervisionSegment,\n",
    "    SupervisionSet,\n",
    "    validate_recordings_and_supervisions,\n",
    ")\n",
    "from lhotse.qa import fix_manifests\n",
    "from lhotse.utils import Pathlike\n",
    "from huggingface_hub import snapshot_download\n"
   ],
   "outputs": [],
   "execution_count": 26
  },
  {
   "metadata": {
    "ExecuteTime": {
     "end_time": "2025-07-23T01:18:45.934310Z",
     "start_time": "2025-07-23T01:18:45.922189Z"
    }
   },
   "cell_type": "code",
   "source": [
    "def clean_token(w: str) -> str:\n",
    "    NOISE_PREFIXES = ('$(', '<', '[')\n",
    "    w = re.sub(r'\\(\\d+\\)$', '', w)     # 去掉尾部(1)\n",
    "    if w.startswith(NOISE_PREFIXES):   # 过滤噪声占位\n",
    "        return ''\n",
    "    return w\n",
    "\n",
    "def parse_ctm_to_supervisions(ctm_path: Path, recording_id: str, channel: int = 0):\n",
    "    sups = []\n",
    "    seg_start = None\n",
    "    seg_id = None\n",
    "    words = []\n",
    "    last_word_end = 0.0\n",
    "\n",
    "    def flush_segment(next_start):\n",
    "        nonlocal sups, seg_id, seg_start, words, last_word_end\n",
    "        if seg_id is None:\n",
    "            return\n",
    "        end_time = next_start if next_start is not None else last_word_end\n",
    "        if end_time is None or seg_start is None or end_time <= seg_start:\n",
    "            return\n",
    "        text = \" \".join(words)\n",
    "        sups.append(\n",
    "            SupervisionSegment(\n",
    "                id=seg_id,\n",
    "                recording_id=recording_id,\n",
    "                start=seg_start,\n",
    "                duration=end_time - seg_start,\n",
    "                channel=channel,\n",
    "                text=text,\n",
    "                language=\"en\",\n",
    "                speaker = recording_id,\n",
    "            )\n",
    "        )\n",
    "        # reset\n",
    "        seg_id = None\n",
    "        seg_start = None\n",
    "        words = []\n",
    "\n",
    "    with ctm_path.open() as f:\n",
    "        for ln in f:\n",
    "            ln = ln.strip()\n",
    "            if not ln:\n",
    "                continue\n",
    "            if ln.startswith('#'):\n",
    "                parts = ln[1:].split()\n",
    "                new_seg_id = parts[0]\n",
    "                new_start = float(parts[1])\n",
    "                flush_segment(new_start)\n",
    "                seg_id = new_seg_id\n",
    "                seg_start = new_start\n",
    "                continue\n",
    "\n",
    "            parts = ln.split()\n",
    "            if len(parts) < 5:\n",
    "                continue\n",
    "            # utt = parts[0]; ch = int(parts[1])\n",
    "            st, du, wd = float(parts[2]), float(parts[3]), parts[4]\n",
    "            wd = clean_token(wd)\n",
    "            if not wd:\n",
    "                continue\n",
    "            words.append(wd)\n",
    "            last_word_end = max(last_word_end, st + du)\n",
    "\n",
    "    flush_segment(None)\n",
    "    return SupervisionSet.from_segments(sups)"
   ],
   "id": "8367048bb64d7a2a",
   "outputs": [],
   "execution_count": 27
  },
  {
   "metadata": {
    "ExecuteTime": {
     "end_time": "2025-07-23T00:30:27.788480Z",
     "start_time": "2025-07-23T00:30:27.708375Z"
    }
   },
   "cell_type": "code",
   "source": "sups = parse_ctm_to_supervisions(Path(\"/mnt/d/repo/IWSLT_OfflineTask/data/en-de/dev2010/ctms/dev2010.en.talkid69.ctm\"), \"talkid767\")",
   "id": "bb50244deb6c34b8",
   "outputs": [],
   "execution_count": 24
  },
  {
   "metadata": {},
   "cell_type": "code",
   "outputs": [],
   "execution_count": null,
   "source": "sups = parse_ctm_to_supervisions(Path(\"/mnt/d/repo/IWSLT_OfflineTask/data/en-de/tst2010/ctms/tst2010.en.talkid767.ctm\"), \"talkid767\")",
   "id": "ca2d3392fc568724"
  },
  {
   "metadata": {
    "ExecuteTime": {
     "end_time": "2025-07-23T00:30:30.196777Z",
     "start_time": "2025-07-23T00:30:30.185772Z"
    }
   },
   "cell_type": "code",
   "source": [
    "for sup in sups.subset(first=5):\n",
    "    print(sup)"
   ],
   "id": "d8703f15f507f3cf",
   "outputs": [
    {
     "name": "stdout",
     "output_type": "stream",
     "text": [
      "SupervisionSegment(id='ted_dev2010_talkid69_30_02', recording_id='talkid767', start=30.02, duration=1252.85, channel=0, text=\"Every you look around the world you discover that these are not cultures destined to fade away these are dynamic living people's being driven out of existence by identifiable forces that are beyond their capacity to adapt to whether it's egregious deforestation in the homeland of the planned a nomadic people from Southeast Asia from Sarawak a people who lived free in the forest until a generation ago and now have all been reduced to servitude and prostitution on the banks of the rivers where you can see the river itself a soiled with the silt that seems to be carrying half of Borneo way to the So China Sea where the Japanese freighters hang light in the horizon ready to fill their holds with raw logs ripped from the forest or in the case of the UN-AU mommy is a disease entities that have come in the wake of the discovery of gold Just to know that job were Sharman still journey beyond the Milky Way or the the myths of the Inuit elders still resonate with meaning or that in the Himalayas the Buddha still pursue the breadth of the Dharma it's really remember the central revelation of anthropology and that is the idea that the world in which we live in does not exist in some absolute sense but is just one model of reality the consequence of one particular set of adaptive choices that are lineage made albeit successfully many generations ago\", language='en', speaker=None, gender=None, custom=None, alignment=None)\n",
      "SupervisionSegment(id='ted_dev2010_talkid69_83_47', recording_id='talkid767', start=83.47, duration=610.0699999999999, channel=0, text=\"A and what we're doing is a series of journeys to the Ethnos sphere where we're going to take our audience to places of such cultural wonder that they cannot help but come away dazzled by what they have seen and hopefully therefore embrace gradually one by one the central revelation of anthropology that this world deserves to exist in a diverse way that we can find a way to live in a truly multi cultural pluralistic world where all of the wisdom of all peoples can contribute to our collective well being And whether it is the The per man in the force of Borneo or the voodoo acolytes in Haiti or the moon warriors in the Kice you desert of northern Kenya accord on their own the mountains of the Andes or a carrot kind of Ansari in the middle of the Sahara this is incidentally the fellow that I traveled into the desert with a month ago or indeed a your accurate or on the slopes of Chama long Emma Everest the goddess mother of the world\", language='en', speaker=None, gender=None, custom=None, alignment=None)\n",
      "SupervisionSegment(id='ted_dev2010_talkid69_693_54', recording_id='talkid767', start=693.54, duration=288.49, channel=0, text=\"What makes ILA's CA fascinating is not this year pharmacological potential of this preparation but the elaboration of it it's made really of two different sources on the one hand this woody Leon I which has entered a series of beta carbones harming harmony and mildly hallucinogenic to take the lot vine alone is rather to have so blue hazy smoke drift across your consciousness but it's mixed with the leaves of a shrub in the coffee family called Psycho to have veered us\", language='en', speaker=None, gender=None, custom=None, alignment=None)\n",
      "SupervisionSegment(id='ted_dev2010_talkid69_549_91', recording_id='talkid767', start=549.91, duration=54.66000000000008, channel=0, text=\"I once traveled six thousand miles from Chengdu in western China over land through southeastern Tibet to Lhasa where the young colleague and it was only when I got to LA SA that I understood the face behind the statistics you hear about six thousand sacred monuments torn apart to dust and ashes one point two million people killed by the card reader in the Cultural Revolution And at the end of this amazing initiation one day there suddenly taken out and for the first time in their lives the age of eighteen they see a sunrise and that Chris sold moment of awareness the first light as the sun begins to bathe the slopes of the stunningly beautiful landscape suddenly everything they have learned in the abstract is affirmed and stunning glory and a pre steps back and said You see it it's really as I've told you\", language='en', speaker=None, gender=None, custom=None, alignment=None)\n",
      "SupervisionSegment(id='ted_dev2010_talkid69_604_57', recording_id='talkid767', start=604.57, duration=450.1, channel=0, text=\"There's not a lot of room for either in the malarial swamps of the asthmatic or in the chilling winds of Tibet but they have nevertheless through time and ritual forger traditional mystique of the Earth that is based not on her idea of being self consciously close to it but on a far subtler intuition the idea that the Earth itself can only exist because it is breathing the being by human consciousness\", language='en', speaker=None, gender=None, custom=None, alignment=None)\n"
     ]
    }
   ],
   "execution_count": 25
  },
  {
   "metadata": {
    "ExecuteTime": {
     "end_time": "2025-07-23T01:32:13.781798Z",
     "start_time": "2025-07-23T01:32:13.774720Z"
    }
   },
   "cell_type": "code",
   "source": [
    "prefix   = \"iwslt_offline\"   # 可为空字符串\n",
    "pair_key = \"de-en\"\n",
    "\n",
    "def fname(kind: str) -> str:\n",
    "    return f\"{prefix + '_' if prefix else ''}{pair_key}_{kind}.jsonl.gz\"\n",
    "\n",
    "\n",
    "def prepare_iwslt_offlinetask(\n",
    "    corpus_dir: Pathlike,\n",
    "    output_dir: Pathlike,\n",
    "):\n",
    "    audio_dir = corpus_dir / \"data/en-de\"\n",
    "    all_recordings = []\n",
    "    all_supervisions = []\n",
    "\n",
    "    for split_dir in audio_dir.iterdir():\n",
    "\n",
    "        file_order = split_dir / \"FILE_ORDER\"\n",
    "\n",
    "        wav_dir = split_dir / \"wavs\"\n",
    "        ctm_dir = split_dir / \"ctms\"\n",
    "\n",
    "        if not wav_dir.is_dir() or not ctm_dir.is_dir():\n",
    "            print(f\"[WARN] skip {split_dir}: wav/ or ctms/ missing.\")\n",
    "            continue\n",
    "\n",
    "        ids = [l.strip() for l in file_order.read_text().splitlines() if l.strip()]\n",
    "        print(ids)\n",
    "        # ---- Supervisions ----\n",
    "        sup_sets_this_split = []\n",
    "        for rid in ids:\n",
    "            ctm = ctm_dir / f\"{rid}.ctm\"\n",
    "            if not ctm.is_file():\n",
    "                print(f\"[WARN] missing ctm: {ctm}\")\n",
    "                continue\n",
    "            sup_sets_this_split.append(parse_ctm_to_supervisions(ctm, rid))\n",
    "        sups_split = SupervisionSet.from_segments(seg for s in sup_sets_this_split for seg in s)\n",
    "        all_supervisions.append(sups_split)\n",
    "\n",
    "        # ---- Recordings ----\n",
    "        recs_split = RecordingSet.from_recordings(\n",
    "            Recording.from_file(wav_dir / f\"{rid}.wav\", recording_id=rid)\n",
    "            for rid in ids\n",
    "            if (wav_dir / f\"{rid}.wav\").is_file()\n",
    "        )\n",
    "        all_recordings.append(recs_split)\n",
    "\n",
    "    # ---- 合并所有 split ----\n",
    "    recordings = RecordingSet.from_recordings(chain.from_iterable(r for r in all_recordings))\n",
    "    supervisions = SupervisionSet.from_segments(chain.from_iterable(s for s in all_supervisions))\n",
    "\n",
    "    recordings.to_file(output_dir / fname(\"recordings\"))\n",
    "    supervisions.to_file(output_dir / fname(\"supervisions\"))\n",
    "    manifests = {\n",
    "            \"en-de\": {\n",
    "            \"recordings\": recordings,\n",
    "            \"supervisions\": supervisions\n",
    "        }\n",
    "    }\n",
    "    return manifests"
   ],
   "id": "8e06611e02c84bbd",
   "outputs": [],
   "execution_count": 36
  },
  {
   "metadata": {
    "ExecuteTime": {
     "end_time": "2025-07-23T01:32:18.789491Z",
     "start_time": "2025-07-23T01:32:15.966939Z"
    }
   },
   "cell_type": "code",
   "source": [
    "IN_DIR = \"/mnt/d/repo/IWSLT_OfflineTask\"\n",
    "OUT_DIR = '../datasets/LongSpeech'\n",
    "manifests = prepare_iwslt_offlinetask(corpus_dir=Path(IN_DIR), output_dir=Path(OUT_DIR))"
   ],
   "id": "721ae7d9292b5d58",
   "outputs": [
    {
     "name": "stdout",
     "output_type": "stream",
     "text": [
      "['dev2010.en.talkid535', 'dev2010.en.talkid531', 'dev2010.en.talkid457', 'dev2010.en.talkid453', 'dev2010.en.talkid227', 'dev2010.en.talkid129', 'dev2010.en.talkid69', 'dev2010.en.talkid93']\n",
      "['tst2010.en.talkid837', 'tst2010.en.talkid824', 'tst2010.en.talkid805', 'tst2010.en.talkid799', 'tst2010.en.talkid792', 'tst2010.en.talkid790', 'tst2010.en.talkid785', 'tst2010.en.talkid783', 'tst2010.en.talkid779', 'tst2010.en.talkid767', 'tst2010.en.talkid769']\n",
      "['tst2013.en.talkid1666', 'tst2013.en.talkid1617', 'tst2013.en.talkid1592', 'tst2013.en.talkid1518', 'tst2013.en.talkid1685', 'tst2013.en.talkid1548', 'tst2013.en.talkid1539', 'tst2013.en.talkid1647', 'tst2013.en.talkid1659', 'tst2013.en.talkid1694', 'tst2013.en.talkid1600', 'tst2013.en.talkid1520', 'tst2013.en.talkid1553', 'tst2013.en.talkid1534', 'tst2013.en.talkid1699', 'tst2013.en.talkid1634']\n",
      "['tst2014.en.talkid1741', 'tst2014.en.talkid1781', 'tst2014.en.talkid1755', 'tst2014.en.talkid1852', 'tst2014.en.talkid1858', 'tst2014.en.talkid1898', 'tst2014.en.talkid1835', 'tst2014.en.talkid1443', 'tst2014.en.talkid1733', 'tst2014.en.talkid1854', 'tst2014.en.talkid1829', 'tst2014.en.talkid1650', 'tst2014.en.talkid1864', 'tst2014.en.talkid1477', 'tst2014.en.talkid1736']\n",
      "['tst2015.en.talkid2183', 'tst2015.en.talkid2102', 'tst2015.en.talkid2024', 'tst2015.en.talkid2045', 'tst2015.en.talkid2017', 'tst2015.en.talkid2007', 'tst2015.en.talkid1997', 'tst2015.en.talkid1961', 'tst2015.en.talkid1954', 'tst2015.en.talkid1939', 'tst2015.en.talkid1932', 'tst2015.en.talkid1922']\n",
      "[WARN] skip /mnt/d/repo/IWSLT_OfflineTask/data/en-de/tst2018: wav/ or ctms/ missing.\n",
      "[WARN] skip /mnt/d/repo/IWSLT_OfflineTask/data/en-de/tst2019: wav/ or ctms/ missing.\n",
      "[WARN] skip /mnt/d/repo/IWSLT_OfflineTask/data/en-de/tst2020: wav/ or ctms/ missing.\n",
      "[WARN] skip /mnt/d/repo/IWSLT_OfflineTask/data/en-de/tst2021: wav/ or ctms/ missing.\n",
      "[WARN] skip /mnt/d/repo/IWSLT_OfflineTask/data/en-de/tst2022: wav/ or ctms/ missing.\n"
     ]
    }
   ],
   "execution_count": 37
  }
 ],
 "metadata": {
  "kernelspec": {
   "display_name": "Python 3",
   "language": "python",
   "name": "python3"
  },
  "language_info": {
   "codemirror_mode": {
    "name": "ipython",
    "version": 2
   },
   "file_extension": ".py",
   "mimetype": "text/x-python",
   "name": "python",
   "nbconvert_exporter": "python",
   "pygments_lexer": "ipython2",
   "version": "2.7.6"
  }
 },
 "nbformat": 4,
 "nbformat_minor": 5
}
