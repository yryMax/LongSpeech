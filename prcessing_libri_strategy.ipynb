{
 "cells": [
  {
   "cell_type": "code",
   "id": "initial_id",
   "metadata": {
    "collapsed": true,
    "ExecuteTime": {
     "end_time": "2025-07-09T13:53:44.508259Z",
     "start_time": "2025-07-09T13:53:44.487477Z"
    }
   },
   "source": [
    "import argparse, multiprocessing as mp\n",
    "from pathlib import Path\n",
    "\n",
    "from lhotse_util import *\n",
    "from util import *\n",
    "import os\n",
    "from lhotse import CutSet\n",
    "from lhotse.recipes import prepare_librispeech\n",
    "from lhotse.cut import append_cuts\n",
    "from tqdm import tqdm\n",
    "import json\n",
    "import pandas as pd"
   ],
   "outputs": [],
   "execution_count": 16
  },
  {
   "metadata": {
    "ExecuteTime": {
     "end_time": "2025-07-09T13:53:46.076060Z",
     "start_time": "2025-07-09T13:53:46.069111Z"
    }
   },
   "cell_type": "code",
   "source": "OUT_DIR = '../datasets/LongSpeech'",
   "id": "8ffaeea9c29d5e89",
   "outputs": [],
   "execution_count": 17
  },
  {
   "metadata": {
    "ExecuteTime": {
     "end_time": "2025-07-09T14:08:02.814988Z",
     "start_time": "2025-07-09T14:08:02.742798Z"
    }
   },
   "cell_type": "code",
   "source": "source_df = pd.read_json(OUT_DIR + \"/cuts.jsonl\", lines=True)",
   "id": "5707d2c70a478052",
   "outputs": [],
   "execution_count": 39
  },
  {
   "metadata": {
    "ExecuteTime": {
     "end_time": "2025-07-09T14:08:04.001529Z",
     "start_time": "2025-07-09T14:08:03.985881Z"
    }
   },
   "cell_type": "code",
   "source": "source_df.head()",
   "id": "d5a4cf57e0d508b7",
   "outputs": [
    {
     "data": {
      "text/plain": [
       "                     id  start  duration  channel  \\\n",
       "0  4507-16021-0047-1268      0    34.955        0   \n",
       "1    1995-1836-0004-470      0    33.910        0   \n",
       "2  7021-79730-0003-2032      0    32.880        0   \n",
       "3  908-157963-0007-2570      0    32.770        0   \n",
       "4  2094-142345-0008-519      0    31.650        0   \n",
       "\n",
       "                                        supervisions  \\\n",
       "0  [{'id': '4507-16021-0047', 'recording_id': '45...   \n",
       "1  [{'id': '1995-1836-0004', 'recording_id': '199...   \n",
       "2  [{'id': '7021-79730-0003', 'recording_id': '70...   \n",
       "3  [{'id': '908-157963-0007', 'recording_id': '90...   \n",
       "4  [{'id': '2094-142345-0008', 'recording_id': '2...   \n",
       "\n",
       "                                           recording     type  \n",
       "0  {'id': '4507-16021-0047', 'sources': [{'type':...  MonoCut  \n",
       "1  {'id': '1995-1836-0004', 'sources': [{'type': ...  MonoCut  \n",
       "2  {'id': '7021-79730-0003', 'sources': [{'type':...  MonoCut  \n",
       "3  {'id': '908-157963-0007', 'sources': [{'type':...  MonoCut  \n",
       "4  {'id': '2094-142345-0008', 'sources': [{'type'...  MonoCut  "
      ],
      "text/html": [
       "<div>\n",
       "<style scoped>\n",
       "    .dataframe tbody tr th:only-of-type {\n",
       "        vertical-align: middle;\n",
       "    }\n",
       "\n",
       "    .dataframe tbody tr th {\n",
       "        vertical-align: top;\n",
       "    }\n",
       "\n",
       "    .dataframe thead th {\n",
       "        text-align: right;\n",
       "    }\n",
       "</style>\n",
       "<table border=\"1\" class=\"dataframe\">\n",
       "  <thead>\n",
       "    <tr style=\"text-align: right;\">\n",
       "      <th></th>\n",
       "      <th>id</th>\n",
       "      <th>start</th>\n",
       "      <th>duration</th>\n",
       "      <th>channel</th>\n",
       "      <th>supervisions</th>\n",
       "      <th>recording</th>\n",
       "      <th>type</th>\n",
       "    </tr>\n",
       "  </thead>\n",
       "  <tbody>\n",
       "    <tr>\n",
       "      <th>0</th>\n",
       "      <td>4507-16021-0047-1268</td>\n",
       "      <td>0</td>\n",
       "      <td>34.955</td>\n",
       "      <td>0</td>\n",
       "      <td>[{'id': '4507-16021-0047', 'recording_id': '45...</td>\n",
       "      <td>{'id': '4507-16021-0047', 'sources': [{'type':...</td>\n",
       "      <td>MonoCut</td>\n",
       "    </tr>\n",
       "    <tr>\n",
       "      <th>1</th>\n",
       "      <td>1995-1836-0004-470</td>\n",
       "      <td>0</td>\n",
       "      <td>33.910</td>\n",
       "      <td>0</td>\n",
       "      <td>[{'id': '1995-1836-0004', 'recording_id': '199...</td>\n",
       "      <td>{'id': '1995-1836-0004', 'sources': [{'type': ...</td>\n",
       "      <td>MonoCut</td>\n",
       "    </tr>\n",
       "    <tr>\n",
       "      <th>2</th>\n",
       "      <td>7021-79730-0003-2032</td>\n",
       "      <td>0</td>\n",
       "      <td>32.880</td>\n",
       "      <td>0</td>\n",
       "      <td>[{'id': '7021-79730-0003', 'recording_id': '70...</td>\n",
       "      <td>{'id': '7021-79730-0003', 'sources': [{'type':...</td>\n",
       "      <td>MonoCut</td>\n",
       "    </tr>\n",
       "    <tr>\n",
       "      <th>3</th>\n",
       "      <td>908-157963-0007-2570</td>\n",
       "      <td>0</td>\n",
       "      <td>32.770</td>\n",
       "      <td>0</td>\n",
       "      <td>[{'id': '908-157963-0007', 'recording_id': '90...</td>\n",
       "      <td>{'id': '908-157963-0007', 'sources': [{'type':...</td>\n",
       "      <td>MonoCut</td>\n",
       "    </tr>\n",
       "    <tr>\n",
       "      <th>4</th>\n",
       "      <td>2094-142345-0008-519</td>\n",
       "      <td>0</td>\n",
       "      <td>31.650</td>\n",
       "      <td>0</td>\n",
       "      <td>[{'id': '2094-142345-0008', 'recording_id': '2...</td>\n",
       "      <td>{'id': '2094-142345-0008', 'sources': [{'type'...</td>\n",
       "      <td>MonoCut</td>\n",
       "    </tr>\n",
       "  </tbody>\n",
       "</table>\n",
       "</div>"
      ]
     },
     "execution_count": 40,
     "metadata": {},
     "output_type": "execute_result"
    }
   ],
   "execution_count": 40
  },
  {
   "metadata": {
    "ExecuteTime": {
     "end_time": "2025-07-09T14:10:45.749343Z",
     "start_time": "2025-07-09T14:10:45.743736Z"
    }
   },
   "cell_type": "code",
   "source": [
    "def prepare_and_group(\n",
    "        df: pd.DataFrame,\n",
    "        min_chapter_sec: int = 120,\n",
    "    ):\n",
    "\n",
    "    df = df[['id', 'duration']].copy()\n",
    "\n",
    "\n",
    "    parts = df['id'].str.split('-', expand=True)\n",
    "    df[['speaker', 'chapter', 'segment_num']] = parts[[0, 1, 2]]\n",
    "    df['segment_num'] = df['segment_num'].astype(int)\n",
    "    df['duration'] = df['duration'].astype(float)\n",
    "\n",
    "    long_enough = (\n",
    "        df.groupby(['speaker', 'chapter'])['duration']\n",
    "          .transform('sum') >= min_chapter_sec\n",
    "    )\n",
    "    df = df[long_enough].reset_index(drop=True)\n",
    "    return df"
   ],
   "id": "4f993646dfa3557d",
   "outputs": [],
   "execution_count": 50
  },
  {
   "metadata": {
    "ExecuteTime": {
     "end_time": "2025-07-09T14:03:59.785972Z",
     "start_time": "2025-07-09T14:03:59.776757Z"
    }
   },
   "cell_type": "code",
   "source": [
    "def build_audio_groups(df: pd.DataFrame,\n",
    "                       target_sec: int = 600,\n",
    "                       tol_sec: int = 60,\n",
    "                       maximum_speakers: int = 3,\n",
    "                       maximum_switches: int = 3):\n",
    "    \"\"\"\n",
    "    将 df 中的片段拼成 ~target_sec 的组。\n",
    "    返回 (groups, summaries)\n",
    "    \"\"\"\n",
    "    # ① 预排序\n",
    "    df_sorted = df.sort_values(['speaker', 'chapter', 'segment_num']).reset_index(drop=True)\n",
    "\n",
    "    groups = []\n",
    "\n",
    "    cur_group, cur_dur = [], 0.0\n",
    "    cur_speakers = set()\n",
    "    semantic_changes = 0\n",
    "\n",
    "    prev_speaker, prev_chapter = None, None\n",
    "\n",
    "    for _, row in df_sorted.iterrows():\n",
    "        seg_id   = row['id']\n",
    "        dur      = float(row['duration'])\n",
    "        speaker  = row['speaker']\n",
    "        chapter  = row['chapter']\n",
    "\n",
    "        # 如果这个片段放进去会超出 target+tol，则先收尾\n",
    "        if cur_group and cur_dur + dur > target_sec + tol_sec:\n",
    "            if len(cur_speakers) <= maximum_speakers and semantic_changes <= maximum_switches:\n",
    "                groups.append((cur_group, len(cur_speakers), semantic_changes))\n",
    "\n",
    "            # reset\n",
    "            cur_group, cur_dur = [], 0.0\n",
    "            cur_speakers, semantic_changes = set(), 0\n",
    "            prev_speaker = prev_chapter = None\n",
    "\n",
    "        if prev_speaker is not None and prev_chapter is not None:\n",
    "            if speaker != prev_speaker or chapter != prev_chapter:\n",
    "                semantic_changes += 1\n",
    "\n",
    "        cur_group.append(seg_id)\n",
    "        cur_dur += dur\n",
    "        cur_speakers.add(speaker)\n",
    "\n",
    "        prev_speaker, prev_chapter = speaker, chapter\n",
    "\n",
    "    return groups"
   ],
   "id": "6ffe88807b6297c8",
   "outputs": [],
   "execution_count": 34
  },
  {
   "metadata": {
    "ExecuteTime": {
     "end_time": "2025-07-09T14:11:40.303070Z",
     "start_time": "2025-07-09T14:11:40.216591Z"
    }
   },
   "cell_type": "code",
   "source": [
    "processed_df = prepare_and_group(df=source_df)\n",
    "groups = build_audio_groups(processed_df)\n"
   ],
   "id": "530fbad22ca6ec54",
   "outputs": [
    {
     "data": {
      "text/plain": [
       "27"
      ]
     },
     "execution_count": 54,
     "metadata": {},
     "output_type": "execute_result"
    }
   ],
   "execution_count": 54
  },
  {
   "metadata": {
    "ExecuteTime": {
     "end_time": "2025-07-09T14:12:16.769259Z",
     "start_time": "2025-07-09T14:12:16.764299Z"
    }
   },
   "cell_type": "code",
   "source": "groups[1]",
   "id": "30ea29cd37297141",
   "outputs": [
    {
     "data": {
      "text/plain": [
       "(['1188-133604-0015-79',\n",
       "  '1188-133604-0016-80',\n",
       "  '1188-133604-0017-81',\n",
       "  '1188-133604-0018-82',\n",
       "  '1188-133604-0019-83',\n",
       "  '1188-133604-0020-84',\n",
       "  '1188-133604-0021-85',\n",
       "  '1188-133604-0022-86',\n",
       "  '1188-133604-0023-87',\n",
       "  '1188-133604-0024-88',\n",
       "  '1188-133604-0025-89',\n",
       "  '1188-133604-0026-90',\n",
       "  '1188-133604-0027-91',\n",
       "  '1188-133604-0028-92',\n",
       "  '1188-133604-0029-93',\n",
       "  '1188-133604-0030-94',\n",
       "  '1188-133604-0031-95',\n",
       "  '1188-133604-0032-96',\n",
       "  '1188-133604-0033-97',\n",
       "  '1188-133604-0034-98',\n",
       "  '1188-133604-0035-99',\n",
       "  '1188-133604-0036-100',\n",
       "  '1188-133604-0037-101',\n",
       "  '1188-133604-0038-102',\n",
       "  '1188-133604-0039-103',\n",
       "  '1188-133604-0040-104',\n",
       "  '1188-133604-0041-105',\n",
       "  '1188-133604-0042-106',\n",
       "  '1188-133604-0043-107',\n",
       "  '1188-133604-0044-108',\n",
       "  '121-127105-0000-134',\n",
       "  '121-127105-0001-135',\n",
       "  '121-127105-0002-136',\n",
       "  '121-127105-0003-137',\n",
       "  '121-127105-0004-138',\n",
       "  '121-127105-0005-139',\n",
       "  '121-127105-0006-140',\n",
       "  '121-127105-0007-141',\n",
       "  '121-127105-0008-142',\n",
       "  '121-127105-0009-143',\n",
       "  '121-127105-0010-144',\n",
       "  '121-127105-0011-145',\n",
       "  '121-127105-0012-146',\n",
       "  '121-127105-0013-147',\n",
       "  '121-127105-0014-148',\n",
       "  '121-127105-0015-149',\n",
       "  '121-127105-0016-150',\n",
       "  '121-127105-0017-151',\n",
       "  '121-127105-0018-152',\n",
       "  '121-127105-0019-153',\n",
       "  '121-127105-0020-154',\n",
       "  '121-127105-0021-155',\n",
       "  '121-127105-0022-156',\n",
       "  '121-127105-0023-157',\n",
       "  '121-127105-0024-158',\n",
       "  '121-127105-0025-159',\n",
       "  '121-127105-0026-160',\n",
       "  '121-127105-0027-161',\n",
       "  '121-127105-0028-162',\n",
       "  '121-127105-0029-163',\n",
       "  '121-127105-0030-164',\n",
       "  '121-127105-0031-165',\n",
       "  '121-127105-0032-166',\n",
       "  '121-127105-0033-167',\n",
       "  '121-127105-0034-168',\n",
       "  '121-127105-0035-169',\n",
       "  '121-127105-0036-170',\n",
       "  '1221-135766-0000-171',\n",
       "  '1221-135766-0001-172',\n",
       "  '1221-135766-0002-173',\n",
       "  '1221-135766-0003-174',\n",
       "  '1221-135766-0004-175',\n",
       "  '1221-135766-0005-176',\n",
       "  '1221-135766-0006-177',\n",
       "  '1221-135766-0007-178',\n",
       "  '1221-135766-0008-179'],\n",
       " 3,\n",
       " 2)"
      ]
     },
     "execution_count": 55,
     "metadata": {},
     "output_type": "execute_result"
    }
   ],
   "execution_count": 55
  }
 ],
 "metadata": {
  "kernelspec": {
   "display_name": "Python 3",
   "language": "python",
   "name": "python3"
  },
  "language_info": {
   "codemirror_mode": {
    "name": "ipython",
    "version": 2
   },
   "file_extension": ".py",
   "mimetype": "text/x-python",
   "name": "python",
   "nbconvert_exporter": "python",
   "pygments_lexer": "ipython2",
   "version": "2.7.6"
  }
 },
 "nbformat": 4,
 "nbformat_minor": 5
}
