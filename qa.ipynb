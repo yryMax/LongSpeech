{
 "cells": [
  {
   "cell_type": "code",
   "execution_count": 46,
   "id": "initial_id",
   "metadata": {
    "ExecuteTime": {
     "end_time": "2025-07-28T02:19:31.036735Z",
     "start_time": "2025-07-28T02:19:30.737466Z"
    },
    "collapsed": true
   },
   "outputs": [],
   "source": [
    "import openai\n",
    "import typing\n",
    "from langdetect import detect, LangDetectException\n",
    "from pathlib import Path\n",
    "from openai.types.chat import ChatCompletion\n",
    "import itertools\n",
    "import json\n",
    "import os\n",
    "import random\n",
    "from tqdm import tqdm"
   ]
  },
  {
   "cell_type": "code",
   "execution_count": 47,
   "id": "75c130cf",
   "metadata": {},
   "outputs": [],
   "source": [
    "def validate_openai_translation(\n",
    "    completion: ChatCompletion,\n",
    "    target_lang: str = 'en',\n",
    "    min_completion_tokens: int = 100\n",
    ") -> bool:\n",
    "    try:\n",
    "        if not completion or not completion.choices:\n",
    "            return False\n",
    "\n",
    "        first_choice = completion.choices[0]\n",
    "\n",
    "        if first_choice.finish_reason != 'stop':\n",
    "            return False\n",
    "\n",
    "        if not completion.usage or completion.usage.completion_tokens < min_completion_tokens:\n",
    "            return False\n",
    "\n",
    "        content = first_choice.message.content\n",
    "        if not content:\n",
    "            return False\n",
    "\n",
    "        try:\n",
    "            answer_lang = detect(content)\n",
    "            if target_lang.lower() != answer_lang.lower():\n",
    "                return False\n",
    "        except LangDetectException:\n",
    "            return False\n",
    "\n",
    "    except AttributeError as e:\n",
    "        return False\n",
    "    \n",
    "    except Exception as e:\n",
    "        print(e)\n",
    "        return False\n",
    "\n",
    "    return True\n"
   ]
  },
  {
   "cell_type": "code",
   "execution_count": 48,
   "id": "a6fbc337",
   "metadata": {},
   "outputs": [],
   "source": [
    "system_prompt = {\n",
    "  \"en\": \"Translate the text provided by the user after the `###` delimiter into English. Output only the translated text.\",\n",
    "  \"de\": \"Übersetzen Sie den Text, den der Benutzer nach dem `###`-Trennzeichen bereitstellt, ins Deutsche. Geben Sie nur den übersetzten Text aus.\",\n",
    "  \"fr\": \"Traduisez le texte fourni par l'utilisateur après le délimiteur `###` en français. Ne retournez que le texte traduit.\",\n",
    "  \"zh-CN\": \"将用户在 `###` 分隔符后提供的文本翻译成简体中文。只输出翻译后的文本。\",\n",
    "  \"es\": \"Traduzca el texto proporcionado por el usuario después del delimitador `###` al español. Devuelva únicamente el texto traducido.\",\n",
    "  \"it\": \"Traduci il testo fornito dall'utente dopo il delimitatore `###` in italiano. Restituisci solo il testo tradotto.\",\n",
    "  \"pl\": \"Przetłumacz tekst dostarczony przez użytkownika po ograniczniku `###` na język polski. Zwróć tylko przetłumaczony tekst.\",\n",
    "  \"ro\": \"Traduceți textul furnizat de utilizator după delimitatorul `###` în limba română. Afișați doar textul tradus.\",\n",
    "  \"ja\": \"ユーザーが`###`デリミタの後に提供したテキストを日本語に翻訳してください。翻訳されたテキストのみを出力してください。\",\n",
    "  \"hu\": \"Fordítsa le a felhasználó által a `###` elválasztójel után megadott szöveget magyarra. Csak a lefordított szöveget adja vissza.\",\n",
    "  \"cs\": \"Přeložte text poskytnutý uživatelem po oddělovači `###` do češtiny. Vypište pouze přeložený text.\",\n",
    "  \"tr\": \"Kullanıcı tarafından `###` sınırlayıcısından sonra sağlanan metni Türkçe'ye çevirin. Yalnızca çevrilmiş metni çıktı olarak verin.\",\n",
    "  \"nl\": \"Vertaal de tekst die de gebruiker na het `###`-scheidingsteken verstrekt naar het Nederlands. Geef alleen de vertaalde tekst terug.\",\n",
    "  \"th\": \"โปรดแปลข้อความที่ผู้ใช้ป้อนหลังตัวคั่น `###` เป็นภาษาไทย และแสดงผลเฉพาะข้อความที่แปลแล้วเท่านั้น\",\n",
    "  \"id\": \"Terjemahkan teks yang diberikan oleh pengguna setelah pembatas `###` ke dalam bahasa Indonesia. Hanya keluarkan teks yang sudah diterjemahkan.\",\n",
    "  \"vi\": \"Dịch văn bản do người dùng cung cấp sau dấu phân cách `###` sang tiếng Việt. Chỉ xuất ra văn bản đã dịch.\",\n",
    "  \"ko\": \"`###` 구분 기호 뒤에 사용자가 제공한 텍스트를 한국어로 번역하십시오. 번역된 텍스트만 출력하십시오.\"\n",
    "}\n",
    "openai.api_key = 'aib_machinetranslation_a6a051'\n",
    "openai.base_url = \"https://pre-openai-keys.alibaba-inc.com\"\n",
    "model_name= \"gpt-4o\"\n",
    "possible_langs = list(system_prompt.keys())"
   ]
  },
  {
   "cell_type": "code",
   "execution_count": 49,
   "id": "832975c9c8d1d81",
   "metadata": {
    "ExecuteTime": {
     "end_time": "2025-07-28T02:25:42.540172Z",
     "start_time": "2025-07-28T02:25:22.921340Z"
    }
   },
   "outputs": [],
   "source": [
    "def openai_translate_one(lang, content):\n",
    "    completion = openai.chat.completions.create(\n",
    "\n",
    "        model=model_name,\n",
    "\n",
    "        messages=[\n",
    "        {\"role\": \"system\", \"content\": system_prompt[lang]},\n",
    "        {\n",
    "        \"role\": \"user\",\n",
    "        \"content\": \"###\" +  content +  \"###\"\n",
    "        },\n",
    "        ],\n",
    "        #max_tokens=100,\n",
    "        temperature=0.7,\n",
    "        top_p=0.9,\n",
    "        frequency_penalty=0.0,\n",
    "        presence_penalty=0.0,\n",
    "        n=1\n",
    "    )\n",
    "    if validate_openai_translation(completion, lang, 100):\n",
    "        return completion.choices[0].message.content, completion.usage.total_tokens\n",
    "    else:\n",
    "        print(\"garbage response\")\n",
    "        return None, 0\n"
   ]
  },
  {
   "cell_type": "code",
   "execution_count": 42,
   "id": "3576f04f",
   "metadata": {},
   "outputs": [
    {
     "data": {
      "text/plain": [
       "(\"Venant comme il l'a fait à une période d'exceptionnelle monotonie, cela a peut-être attiré plus d'attention qu'il ne le méritait, mais il offrait au public ce mélange de fantaisie et de tragédie qui stimule le plus l'imagination populaire. L'intérêt a cependant faibli lorsque, après des semaines d'enquête infructueuse, il a été constaté qu'aucune explication finale des faits n'était à venir et la tragédie a semblé à partir de ce moment. Il serait peut-être bon que je rafraîchisse leurs mémoires quant aux faits singuliers sur lesquels ce commentaire est fondé. Ces faits étaient brièvement les suivants : à cinq heures de l'après-midi du dix-huit mars, l'année déjà mentionnée, un train quittait la gare d'Euston pour Manchester. C'était un jour de pluie et de rafales qui devenait plus sauvage à mesure qu'il progressait, ce n'était donc en aucun cas le temps où quiconque voyagerait sans y être contraint par nécessité. Le train, cependant, est prisé par les hommes d'affaires de Manchester qui reviennent de la ville, car il fait le trajet en quatre heures et vingt minutes, avec seulement trois arrêts en route. Malgré la soirée inclémente, il était donc assez bien rempli. À l'occasion dont je parle, le chef de train était un fidèle serviteur de la compagnie, un homme qui avait travaillé pendant vingt-deux ans sans tache ni plainte. Son nom était John Palmer. L'horloge de la gare était sur le coup de cinq heures et le chef de train était sur le point de donner le signal habituel au conducteur de locomotive lorsqu'il a aperçu deux passagers retardataires se précipitant sur le quai. L'un était un homme exceptionnellement grand vêtu d'un long manteau noir avec un col et des poignets en astrakan. J'ai déjà dit que la soirée était inclémente et le voyageur de grande taille avait le col haut et chaud relevé pour protéger sa gorge contre le vent glacial de mars. Il semblait, autant que le chef de train pouvait en juger par une inspection si rapide, être un homme entre cinquante et soixante ans. Qui dépassait le gentleman à ses côtés. Elle portait un long manteau couleur fauve, un toque noir ajusté et un voile sombre qui cachait la plus grande partie de son visage. Les deux auraient très bien pu passer pour père et fille. Ils marchaient rapidement le long de la ligne de voitures, regardant par les fenêtres, jusqu'à ce que le chef de train, John Palmer, les rattrape. Maintenant, monsieur, dépêchez-vous, le train part, dit-il. Première classe répondit l'homme. Le chef de train tourna la poignée de la porte la plus proche de la voiture qu'il avait ouverte, il y avait un petit homme avec un cigare à la bouche. Son apparence semble s'être imprimée dans la mémoire du chef de train, car il était prêt par la suite à le décrire ou à l'identifier. C'était un homme de trente-quatre ou trente-cinq ans, vêtu d'un tissu gris, au nez pointu, alerte, au visage rougeaud et battu par les intempéries et un petit. Il leva les yeux lorsque la porte fut ouverte. L'homme grand s'arrêta avec son pied sur la marche. C'est un compartiment fumeur. La dame n'aime pas la fumée. Très bien, voici pour vous, monsieur, dit John Palmer. Il claqua la porte du compartiment fumeur, ouvrit celle du suivant qui était vide, et poussa les deux voyageurs dedans. Au même moment, il fit retentir son sifflet. Et les roues du train commencèrent à bouger. L'homme avec le cigare était à la fenêtre de son compartiment et dit quelque chose au chef de train alors qu'il roulait devant lui, mais les mots furent perdus dans l'agitation du départ. Palmer monta dans le fourgon du chef de train. Comme il l'atteignait et ne pensa plus à l'incident. Douze minutes après son départ, le train atteignit Willesden Junction, où il s'arrêta pour un très court intervalle. Un examen des billets a permis de s'assurer. Que personne ne l'avait rejoint ou quitté à ce moment-là et aucun passager n'a été vu descendre sur le quai. À cinq heures quatorze, le voyage vers Manchester a repris et Rugby a été atteint à six heures cinquante. L'express ayant cinq minutes de retard à Rugby, l'attention des responsables de la gare fut attirée par le fait que la porte de l'un des compartiments de première classe était ouverte. Un examen de ce compartiment et de son voisin. Révéla un état de fait remarquable : le compartiment fumeur dans lequel se trouvait le petit homme au visage rouge. À part un cigare à moitié fumé, il n'y avait aucune trace de son occupant récent. La porte de ce compartiment était fermée dans le compartiment voisin, vers lequel l'attention avait été initialement attirée. Il n'y avait aucun signe non plus du gentleman avec le col en astrakan ou de la jeune femme qui l'accompagnait. Les trois passagers avaient disparu. D'autre part, on trouva sur le sol de ce compartiment. Celui dans lequel le grand voyageur et la dame avaient été un jeune homme, habillé à la mode et d'apparence élégante. Il était allongé avec ses genoux. Un coude sur chaque siège, une balle avait pénétré son cœur, et sa mort devait avoir été instantanée. Personne n'avait vu un tel homme monter dans le train, et aucun billet de train n'a été trouvé dans sa poche. Quant à ce qui était arrivé aux trois personnes qui avaient commencé une heure et demie auparavant de Willesden dans ces deux compartiments. J'ai dit qu'il n'y avait pas de biens personnels qui pourraient aider à l'identifier. Mais il est vrai qu'il y avait une particularité à propos de ce jeune homme inconnu qui a beaucoup fait parler à l'époque : dans ses poches ont été trouvées pas moins de six montres en or précieuses. Trois dans les différentes poches de son gilet, une dans sa poche à billets. Et que c'était son butin a été écarté par le fait que les six étaient de fabrication américaine et d'un type qui est rare en Angleterre. Trois d'entre elles portaient la marque de la société horlogère de Rochester. Et la petite, qui était très bijoutée et ornée, venait de Tiffany de New York. Les autres contenus de sa poche consistaient en un couteau en ivoire avec un tire-bouchon de Rodgers de Sheffield, un petit miroir circulaire. D'un pouce de diamètre, un coupon de réadmission au théâtre Lyceum, une boîte en argent pleine d'allumettes Vesta et un étui à cigares en cuir brun contenant deux cheroots. Aussi deux livres quatorze shillings en argent. Il était donc clair que quels que soient les motifs qui ont conduit à sa mort, le vol n'en faisait pas partie. Comme déjà mentionné, il n'y avait pas de marques sur le linge de l'homme. Qui semblait être neuf, et pas de nom de tailleur sur son manteau. En apparence, il était jeune, petit, lisse, aux joues et délicatement présenté une de ses dents de devant. Les deux compartiments en question ont été décrochés et mis de côté. Puis, à l'arrivée de l'inspecteur Vane de Scotland Yard et de M. Henderson, un détective au service de la compagnie ferroviaire, une enquête exhaustive. A été menée, dans toutes les circonstances, qu'un crime avait été commis était certain. La balle, qui semblait provenir d'un petit pistolet ou revolver, avait été tirée d'une certaine distance. Comme il n'y avait pas de brûlure des vêtements, aucune arme n'a été trouvée dans le compartiment ce qui a finalement écarté la théorie du suicide, ni aucun signe du sac en cuir brun que le chef de train avait vu dans la main du grand monsieur. Pouvait sortir du train et un autre entrer pendant la course ininterrompue entre Willesden et Rugby. John Palmer, le chef de train a pu à l'enquête donner quelques preuves qui ont éclairé un peu l'affaire. Il y avait un endroit entre Tring et Cheddington, selon sa déclaration, où, à cause de certaines réparations sur la ligne, le train avait, pendant quelques minutes, ralenti à une allure ne dépassant pas huit ou dix miles à l'heure. À cet endroit, il pourrait être possible pour un homme, ou même pour une femme exceptionnellement active, de quitter le train sans blessure grave. Il était vrai qu'une équipe de poseurs de rails était là et qu'ils n'avaient rien vu, mais c'était leur habitude de se tenir au milieu entre les rails, et la porte du compartiment ouverte était de l'autre côté. De sorte qu'il était concevable que quelqu'un ait pu descendre inaperçu alors que l'obscurité commençait à tomber et qu'un talus escarpé cacherait instantanément quiconque sauterait de l'observation des ouvriers. Un examen minutieux de la ligne entre Willesden et Rugby a abouti à une découverte qui pourrait ou non avoir un rapport avec la tragédie près de Tring, à l'endroit précis où le train ralentissait. Un petit testament de poche a été trouvé au bas du talus, très usé et délabré. Il était imprimé par la Bible Society de Londres et portait une inscription de John à Alice. Sur la page de garde. En dessous était écrit James. Dix-huit, cinquante-neuf, et en dessous encore, Edward premier novembre, dix-huit soixante-neuf, toutes les inscriptions étant dans la même écriture. C'était le seul indice, si on pouvait l'appeler un indice. Qui était suffisamment solide pour servir de base à une enquête profitable. Ce serait une erreur cependant. Au contraire, la presse tant en Angleterre qu'en Amérique regorgeait de suggestions et de suppositions, dont la plupart étaient manifestement absurdes. Le fait que les montres étaient de fabrication américaine. Et certaines particularités en rapport avec l'obturation en or de sa dent de devant semblaient indiquer que le défunt était un citoyen des États-Unis, bien que ses vêtements en lin et ses bottes fussent sans aucun doute de fabrication britannique. Certains ont supposé qu'il était caché sous le siège et que, étant découvert, il a été pour une raison quelconque, peut-être parce qu'il avait entendu leurs secrets coupables, mis à mort par ses compagnons de voyage. Lorsqu'il est couplé à des généralités sur la férocité et la ruse des sociétés secrètes anarchistes et autres, cette théorie semblait aussi plausible que toute autre. Le fait qu'il soit sans billet serait cohérent.\",\n",
       " 4395)"
      ]
     },
     "execution_count": 42,
     "metadata": {},
     "output_type": "execute_result"
    }
   ],
   "source": [
    "example = \"Coming as it did at a period of exceptional dullness. It attracted perhaps rather more attention than it deserved, but it offered to the public that mixture of the whimsical and the tragic which is most stimulating to the popular imagination. Interest drooped, however, when, after weeks of fruitless investigation, it was found that no final explanation of the facts was forthcoming and the tragedy seemed from that time. It would be as well, perhaps, that i should refresh their memories as to the singular facts upon which this commentary is founded. These facts were briefly as follows: at five o'clock on the evening of the eighteenth of march, In the year already mentioned, a train left euston station for manchester. It was a rainy, squally day which grew wilder as it progressed, so it was by no means the weather in which anyone would travel who was not driven to do so by necessity. The train, however, is a favourite one among manchester business men who are returning from town, for it does the journey in four hours and twenty minutes, with only three stoppages upon the way. In spite of the inclement evening, it was therefore fairly well filled. Upon the occasion of which i speak, the guard of the train was a tried servant of the company, a man who had worked for twenty two years without a blemish or complaint. His name was john palmer. The station clock was upon the stroke of five and the guard was about to give the customary signal to the engine driver when he observed two belated passengers hurrying down the platform. The one was An exceptionally tall man dressed in a long black overcoat with astrakhan collar and cuffs. I have already said that the evening was an inclement one and the tall traveller had the high, warm collar. Turned up to protect his throat against the bitter march wind. He appeared, as far as the guard could judge by so hurried an inspection, to be a man between fifty and sixty years of age. Which outpaced the gentleman beside her. She wore a long fawn coloured dust cloak, a black close fitting toque and a dark veil which concealed the greater part of her face. The two might very well have passed as father and daughter. They walked swiftly down the line of carriages, glancing in at the windows, until the guard, john palmer, overtook them. Now then, sir, look sharp, the train is going, said he. First class the man answered. The guard turned the handle of the nearest door in the carriage which he had opened, there sat a small man with a cigar in his mouth. His appearance seems to have impressed itself upon the guard's memory, for he was prepared afterwards. To describe or to identify him. He was a man of thirty four or thirty five years of age, dressed in some grey material, sharp nosed, alert, with a ruddy weather, beaten face and a small. He glanced up as the door was opened. The tall man paused with his foot upon the step. This is a smoking compartment. The lady dislikes smoke. All right, here you are, sir, said john palmer. He slammed the door of the smoking carriage, opened that of the next one which was empty, and thrust the two travellers in. At the same moment he sounded his whistle. And the wheels of the train began to move. The man with the cigar was at the window of his carriage and said something to the guard as he rolled past him, but the words were lost in the bustle of the departure. Palmer stepped into the guard's van. As it came up to him and thought no more of the incident. Twelve minutes after its departure, the train reached willesden junction, where it stopped for a very short interval. An examination of the tickets has made it certain. That no one either joined or left it at this time and no passenger was seen to alight upon the platform. At five fourteen the journey to manchester was resumed and rugby was reached at six fifty. The express being five minutes late at rugby, the attention of the station officials was drawn to the fact that the door of one of the first class carriages was open. An examination of that compartment and of its neighbour. Disclosed a remarkable state of affairs: the smoking carriage in which the short red faced man. Save for a half smoked cigar, there was no trace whatever of its recent occupant. The door of this carriage was fastened in the next compartment, to which attention had been originally drawn. There was no sign either of the gentleman with the astrakhan collar or of the young lady who accompanied him. All three passengers had disappeared. On the other hand, there was found upon the floor of this carriage. The one in which the tall traveller and the lady had been a young man, fashionably dressed and of elegant appearance. He lay with his knees. An elbow upon either seat, a bullet had penetrated his heart, and his death must have been instantaneous. No one had seen such a man enter the train, and no railway ticket was found in his pocket. As what had occurred to the three people who had started an hour and a half before from willesden in those two compartments. I have said that there was no personal property which might help to identify him. But it is true that there was one peculiarity about this unknown young man which was much commented upon at the time: in his pockets were found no fewer than six valuable gold watches. Three in the various pockets of his waist coat, one in his ticket pocket. And that this was his plunder was discounted by the fact that all six were of american make and of a type which is rare in england. Three of them bore the mark of the rochester watchmaking company. And the small one, which was highly jewelled and ornamented, was from tiffany of new york. The other contents of his pocket consisted of an ivory knife with a corkscrew by rodgers of sheffield, a small circular mirror. One inch in diameter, a readmission slip to the lyceum theatre, a silver box full of vesta matches and a brown leather cigar case containing two cheroots. Also two pounds fourteen shillings in money. It was clear then that whatever motives may have led to his death, robbery was not among them. As already mentioned, there were no markings upon the man's linen. Which appeared to be new, and no tailor's name upon his coat. In appearance he was young, short, smooth, cheeked and delicately featured one of his front teeth. The two compartments in question was uncoupled and side tracked. Then, on the arrival of inspector vane of scotland yard and of mister henderson, a detective in the service of the railway company, an exhaustive inquiry. Was made, into all the circumstances, that crime had been committed was certain. The bullet, which appeared to have come from a small pistol or revolver, had been fired from some little distance. As there was no scorching of the clothes, no weapon was found in the compartment which finally disposed of the theory of suicide, nor was there any sign of the brown leather bag which the guard had seen in the hand of the tall gentleman. Could get out of the train and one other get in during the unbroken run between willesden and rugby. John palmer, the guard was able at the inquest to give some evidence which threw a little light upon the matter. There was a spot between tring and cheddington, according to his statement, where, on account of some repairs to the line, The train had, for a few minutes, slowed down to a pace not exceeding eight or ten miles an hour. At that place, it might be possible for a man, or even for an exceptionally active woman, to have left the train without serious injury. It was true that a gang of platelayers was there and that they had seen nothing, but it was their custom to stand in the middle between the metals, and the open carriage door was upon the far side. So that it was conceivable that someone might have alighted unseen as the darkness would by that time be drawing in a steep embankment- would instantly screen anyone who sprang out from the observation of the navvies. A careful examination of the line between willesden and rugby resulted in one discovery which might or might not have a bearing upon the tragedy near tring, at the very place where the train slowed down. There was found at the bottom of the embankment a small pocket testament, very shabby and worn. It was printed by the bible society of london and bore an inscription from john to alice. Upon the fly leaf. Underneath was written james. Eighteen, fifty nine, and beneath that again, edward november first, eighteen sixty nine, all the entries being in the same handwriting. This was the only clue, if it could be called a clue. Which was solid enough to form the basis for a profitable investigation. It would be a mistake, however. On the contrary, the press both in england and in america teemed with suggestions and suppositions, most of which were obviously absurd. The fact that the watches were of american make. And some peculiarities in connection with the gold stopping of his front tooth appeared to indicate that the deceased was a citizen of the united states, though his linen clothes and boots were undoubtedly of british manufacture. It was surmised by some that he was concealed under the seat and that, being discovered he was for some reason, possibly because he had overheard their guilty secrets put to death by his fellow passengers. When coupled with generalities as to the ferocity and cunning of anarchical and other secret societies, this theory sounded as plausible as any. The fact that he should be without a ticket would be consistent.\"\n",
    "openai_translate_one('fr', example)"
   ]
  },
  {
   "cell_type": "code",
   "execution_count": 43,
   "id": "2de610e2",
   "metadata": {},
   "outputs": [],
   "source": [
    "DATA_PATH1 = Path(\"../datasets/LongSpeech/all_audios.jsonl\")\n",
    "DATA_PATH2 = Path(\"../datasets/LongSpeech_p2/all_audios.jsonl\")\n",
    "DATA_PATH3 = Path(\"/home/yangrenyi.yry/LongSpeech_p3/all_audios.jsonl\")\n",
    "OUTPUT_PATH = Path(\"../datasets/LongSpeechQA/translation.jsonl\")"
   ]
  },
  {
   "cell_type": "code",
   "execution_count": 44,
   "id": "c7b58eb1",
   "metadata": {},
   "outputs": [],
   "source": [
    "def stream_from_file(path, max_lines=-1):\n",
    "    if not (path.exists() and path.is_file()):\n",
    "        print(f\"⚠️ 警告: 文件不存在或路径不是一个文件 - {path}\")\n",
    "\n",
    "    try:\n",
    "        with open(path, 'r', encoding='utf-8') as f:\n",
    "            lines_to_process = f  \n",
    "            if max_lines != -1:\n",
    "                lines_to_process = itertools.islice(f, max_lines)\n",
    "            \n",
    "            yield from lines_to_process\n",
    "            \n",
    "    except Exception as e:\n",
    "        print(f\"读取文件 '{path}' 时发生错误: {e}\")\n"
   ]
  },
  {
   "cell_type": "code",
   "execution_count": 51,
   "id": "5d4d6381",
   "metadata": {},
   "outputs": [
    {
     "name": "stdout",
     "output_type": "stream",
     "text": [
      "Pre-calculating total lines for progress bar...\n"
     ]
    },
    {
     "name": "stderr",
     "output_type": "stream",
     "text": [
      "Translating Records:  70%|███████   | 7/10 [30:56<13:34, 271.61s/it, total_tokens=162,834]"
     ]
    }
   ],
   "source": [
    "total_tokens_used = 0 \n",
    "\n",
    "print(\"Pre-calculating total lines for progress bar...\")\n",
    "try:\n",
    "    with open(DATA_PATH1, 'r', encoding='utf-8') as f:\n",
    "        total_lines = sum(1 for _ in f)\n",
    "except FileNotFoundError:\n",
    "    print(f\"Error: Input file not found at {DATA_PATH1}\")\n",
    "    total_lines = 0\n",
    "\n",
    "wanted_lines = 10\n",
    "with open(OUTPUT_PATH, \"w\", encoding=\"utf-8\") as outfile:\n",
    "    data_iter = stream_from_file(DATA_PATH1, wanted_lines)\n",
    "    progress_bar = tqdm(data_iter, total=wanted_lines, desc=\"Translating Records\")\n",
    "\n",
    "    for line in progress_bar:\n",
    "        line = line.strip()\n",
    "        if not line:\n",
    "            continue\n",
    "        try:\n",
    "            ljs = json.loads(line)\n",
    "        except json.JSONDecodeError:\n",
    "            continue\n",
    "            \n",
    "        source_lang = ljs.get('language')\n",
    "        content = ljs.get('transcribe')\n",
    "        wav_id = ljs.get('id')\n",
    "\n",
    "        if not all([source_lang, content, wav_id]):\n",
    "            continue\n",
    "\n",
    "        wav_path = Path(DATA_PATH1.parent / 'wavs' / (wav_id + '.wav')).resolve()\n",
    "        \n",
    "        sampled_lang = [x for x in possible_langs if x != source_lang]\n",
    "    \n",
    "        target_langs = random.sample(sampled_lang, 5)\n",
    "\n",
    "        for target_lang in target_langs:\n",
    "\n",
    "            translated, tokens_used = openai_translate_one(target_lang, content)\n",
    "            \n",
    "            total_tokens_used += tokens_used\n",
    "            \n",
    "            record = {\n",
    "                \"source_lang\": source_lang,\n",
    "                \"target_lang\": target_lang,\n",
    "                \"content\": translated,\n",
    "                \"wav_path\": str(wav_path)\n",
    "            }\n",
    "            outfile.write(json.dumps(record, ensure_ascii=False) + '\\n')\n",
    "            progress_bar.set_postfix({\"total_tokens\": f\"{total_tokens_used:,}\"})"
   ]
  }
 ],
 "metadata": {
  "kernelspec": {
   "display_name": "Python 3",
   "language": "python",
   "name": "python3"
  },
  "language_info": {
   "codemirror_mode": {
    "name": "ipython",
    "version": 3
   },
   "file_extension": ".py",
   "mimetype": "text/x-python",
   "name": "python",
   "nbconvert_exporter": "python",
   "pygments_lexer": "ipython3",
   "version": "3.10.18"
  }
 },
 "nbformat": 4,
 "nbformat_minor": 5
}
