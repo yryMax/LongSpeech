{
 "cells": [
  {
   "cell_type": "code",
   "execution_count": 1,
   "id": "initial_id",
   "metadata": {
    "ExecuteTime": {
     "end_time": "2025-07-23T13:46:58.269601Z",
     "start_time": "2025-07-23T13:46:39.052386Z"
    }
   },
   "outputs": [
    {
     "name": "stderr",
     "output_type": "stream",
     "text": [
      "/mnt/workspace/renyi/miniconda3/envs/test3/lib/python3.10/site-packages/tqdm/auto.py:21: TqdmWarning: IProgress not found. Please update jupyter and ipywidgets. See https://ipywidgets.readthedocs.io/en/stable/user_install.html\n",
      "  from .autonotebook import tqdm as notebook_tqdm\n"
     ]
    }
   ],
   "source": [
    "import multiprocessing as mp\n",
    "import os\n",
    "import json\n",
    "from tqdm import tqdm\n",
    "from lhotse import CutSet\n",
    "from mylhotse.aishell2 import prepare_aishell2"
   ]
  },
  {
   "cell_type": "code",
   "execution_count": 2,
   "id": "e3a1954a",
   "metadata": {
    "ExecuteTime": {
     "end_time": "2025-07-23T13:50:01.594328Z",
     "start_time": "2025-07-23T13:50:01.591357Z"
    }
   },
   "outputs": [],
   "source": [
    "# directory paths to save audio and transcript files\n",
    "IN_DIR = \"../datasets/LongSpeechSource/iOS\"\n",
    "#IN_DIR = \"/mnt/d/repo/AISHELL-2-sample/iOS\"\n",
    "# directory paths to save metadata and processed aduio files\n",
    "OUT_DIR = '../datasets/LongSpeech_p2'"
   ]
  },
  {
   "cell_type": "code",
   "execution_count": 3,
   "id": "config_setup",
   "metadata": {
    "ExecuteTime": {
     "end_time": "2025-07-23T13:50:08.085236Z",
     "start_time": "2025-07-23T13:50:08.048529Z"
    }
   },
   "outputs": [
    {
     "name": "stdout",
     "output_type": "stream",
     "text": [
      "16124\n"
     ]
    }
   ],
   "source": [
    "config = json.load(open(os.path.join(OUT_DIR, 'metadata.json')))\n",
    "AVG_DURATION = config['avg_duration']\n",
    "SAMPLE_RATE = config['sample_rate']\n",
    "OUT_FILE_NAME = config['source']\n",
    "prev_amount = config['amount']\n",
    "print(prev_amount)\n",
    "task = \"asr\""
   ]
  },
  {
   "cell_type": "code",
   "execution_count": 4,
   "id": "3de79901c45e3eb2",
   "metadata": {
    "ExecuteTime": {
     "end_time": "2025-07-23T13:50:15.296320Z",
     "start_time": "2025-07-23T13:50:11.618561Z"
    }
   },
   "outputs": [
    {
     "name": "stderr",
     "output_type": "stream",
     "text": [
      "Scanning audio files (*.wav): 1009223it [05:34, 3015.21it/s]\n",
      "Processing audios: 100%|██████████| 1009223/1009223 [00:22<00:00, 45184.69it/s]\n"
     ]
    }
   ],
   "source": [
    "manifests = prepare_aishell2(corpus_dir=IN_DIR, output_dir=OUT_DIR, num_jobs=15)"
   ]
  },
  {
   "cell_type": "code",
   "execution_count": 5,
   "id": "c323343a",
   "metadata": {
    "ExecuteTime": {
     "end_time": "2025-07-23T13:50:32.624962Z",
     "start_time": "2025-07-23T13:50:32.619262Z"
    }
   },
   "outputs": [],
   "source": [
    "\n",
    "cuts = CutSet()\n",
    "for part in manifests.keys():\n",
    "    rs = manifests[part]['recordings']\n",
    "    ss = manifests[part]['supervisions']\n",
    "    cut = CutSet.from_manifests(recordings=rs, supervisions=ss)\n",
    "    cuts += cut"
   ]
  },
  {
   "cell_type": "code",
   "execution_count": 6,
   "id": "ccdae1870680c1ca",
   "metadata": {
    "ExecuteTime": {
     "end_time": "2025-07-23T14:08:44.214731Z",
     "start_time": "2025-07-23T14:08:44.163659Z"
    }
   },
   "outputs": [],
   "source": [
    "resampled_cuts = cuts.sort_by_recording_id()\n",
    "resampled_cuts.to_jsonl(os.path.join(OUT_DIR, \"aishell_raw_cuts.jsonl\"))"
   ]
  },
  {
   "cell_type": "code",
   "execution_count": 7,
   "id": "b2bd4d09f932e757",
   "metadata": {
    "ExecuteTime": {
     "end_time": "2025-07-23T14:10:15.729337Z",
     "start_time": "2025-07-23T14:10:15.722827Z"
    }
   },
   "outputs": [],
   "source": [
    "def pack_cuts_to_long_audio(\n",
    "    cuts: CutSet,\n",
    "    target_duration: float = 600.0,\n",
    "    starting_id: int = 0,\n",
    ") -> (CutSet, int):\n",
    "    final_long_cuts = []\n",
    "    buffer_cut = None\n",
    "\n",
    "    for cut in cuts:\n",
    "        buffer_cut = cut if buffer_cut is None else buffer_cut.append(cut)\n",
    "        if buffer_cut.duration >= target_duration:\n",
    "            final_long_cuts.append(buffer_cut.with_id(f\"{starting_id:06d}\"))\n",
    "            starting_id += 1\n",
    "            buffer_cut = None\n",
    "\n",
    "    return CutSet.from_cuts(final_long_cuts), starting_id"
   ]
  },
  {
   "cell_type": "code",
   "execution_count": 8,
   "id": "86e2d3ce5edad1ff",
   "metadata": {
    "ExecuteTime": {
     "end_time": "2025-07-23T14:11:58.373736Z",
     "start_time": "2025-07-23T14:11:58.311730Z"
    }
   },
   "outputs": [],
   "source": [
    "grouped_cuts, new_amount = pack_cuts_to_long_audio(resampled_cuts, target_duration=600.0, starting_id = prev_amount)\n",
    "grouped_cuts.to_jsonl(OUT_DIR + \"/aishell_grouped_cuts.jsonl\")\n"
   ]
  },
  {
   "cell_type": "code",
   "execution_count": 9,
   "id": "93d35bb307c93c85",
   "metadata": {
    "ExecuteTime": {
     "end_time": "2025-07-23T14:36:12.793097Z",
     "start_time": "2025-07-23T14:36:12.787744Z"
    }
   },
   "outputs": [],
   "source": [
    "def json_from_aishell_to_allaudios(one_cut):\n",
    "    sources = []\n",
    "    total_dur = 0\n",
    "    transcripts = []\n",
    "    slices = []\n",
    "    speakers = set()\n",
    "    ttt = one_cut[\"tracks\"] if \"tracks\" in one_cut else [one_cut]\n",
    "    for subcut in ttt:\n",
    "        ccc = subcut[\"cut\"] if \"cut\" in subcut else subcut\n",
    "        total_dur += ccc[\"duration\"]\n",
    "        full_pth = ccc[\"recording\"][\"sources\"][0][\"source\"]\n",
    "        slices.append([ccc[\"start\"], ccc[\"duration\"]])\n",
    "        sources.append(full_pth.split(\"data\")[-1])\n",
    "        speakers.add(ccc[\"supervisions\"][0][\"speaker\"])\n",
    "        transcript_param = \". \".join([s[\"text\"] for s in ccc[\"supervisions\"] if s[\"text\"]])\n",
    "        if transcript_param != \"\":\n",
    "            transcripts.append(transcript_param)\n",
    "        else:\n",
    "            print(subcut)\n",
    "\n",
    "    return {\n",
    "        \"id\": one_cut[\"id\"],\n",
    "        \"source_ds\": \"aishell2\",\n",
    "        \"duration_sec\": total_dur,\n",
    "        \"audio_auto\": False,\n",
    "        \"text_auto\": False,\n",
    "        \"language\": 'zh-CN',\n",
    "        \"num_speakers\": len(speakers),\n",
    "        \"num_switches\": len(sources),\n",
    "        \"slice\": slices,\n",
    "        \"transcribe\": \"。 \".join(transcripts),\n",
    "        \"components\": sources,\n",
    "    }\n",
    "\n",
    "def convert_record(source_jsonl_path: str, target_jsonl_path: str, map_fn):\n",
    "    with open(source_jsonl_path, \"r\", encoding=\"utf-8\") as src_f, \\\n",
    "         open(target_jsonl_path, \"a\", encoding=\"utf-8\") as tgt_f:\n",
    "        for line in src_f:\n",
    "            item = json.loads(line)\n",
    "            new_item = map_fn(item)\n",
    "            tgt_f.write(json.dumps(new_item, ensure_ascii=False) + \"\\n\")"
   ]
  },
  {
   "cell_type": "code",
   "execution_count": 10,
   "id": "5a899487",
   "metadata": {
    "ExecuteTime": {
     "end_time": "2025-07-23T14:36:15.019467Z",
     "start_time": "2025-07-23T14:36:14.992515Z"
    }
   },
   "outputs": [],
   "source": [
    "convert_record(os.path.join(OUT_DIR, \"aishell_grouped_cuts.jsonl\"),\n",
    "               os.path.join(OUT_DIR, OUT_FILE_NAME),\n",
    "               json_from_aishell_to_allaudios)\n"
   ]
  },
  {
   "cell_type": "code",
   "execution_count": 11,
   "id": "fd73da044d6b28be",
   "metadata": {
    "ExecuteTime": {
     "end_time": "2025-07-23T14:26:09.846619Z",
     "start_time": "2025-07-23T14:26:09.843929Z"
    }
   },
   "outputs": [],
   "source": [
    "from concurrent.futures import ProcessPoolExecutor, as_completed\n",
    "from pathlib import Path\n",
    "from worker import save_one_worker"
   ]
  },
  {
   "cell_type": "code",
   "execution_count": 12,
   "id": "23e3f79a",
   "metadata": {
    "ExecuteTime": {
     "end_time": "2025-07-23T14:26:12.790024Z",
     "start_time": "2025-07-23T14:26:12.785934Z"
    }
   },
   "outputs": [],
   "source": [
    "\n",
    "\n",
    "def save_audios_from_cutset(cutset, out_dir, num_jobs=None):\n",
    "    if num_jobs is None:\n",
    "        num_jobs = os.cpu_count()\n",
    "\n",
    "    out_dir = Path(out_dir)\n",
    "    out_dir.mkdir(parents=True, exist_ok=True)\n",
    "\n",
    "    context = mp.get_context(\"spawn\")\n",
    "\n",
    "    with ProcessPoolExecutor(max_workers=num_jobs, mp_context=context) as pool:\n",
    "        futures = [\n",
    "            pool.submit(save_one_worker, cut, out_dir) \n",
    "            for cut in tqdm(cutset, desc=\"1. 提交任务中\")\n",
    "        ]\n",
    "        for _ in tqdm(\n",
    "        as_completed(futures),\n",
    "        total=len(futures),\n",
    "        desc=f\"Saving WAVs ({num_jobs} workers)\"\n",
    "        ):\n",
    "            pass"
   ]
  },
  {
   "cell_type": "code",
   "execution_count": 13,
   "id": "c4d0d170",
   "metadata": {
    "ExecuteTime": {
     "end_time": "2025-07-23T14:26:21.698051Z",
     "start_time": "2025-07-23T14:26:14.843809Z"
    }
   },
   "outputs": [
    {
     "name": "stderr",
     "output_type": "stream",
     "text": [
      "1. 提交任务中: 100%|██████████| 5983/5983 [00:00<00:00, 33712.97it/s]\n",
      "Saving WAVs (12 workers): 100%|██████████| 5983/5983 [1:32:16<00:00,  1.08it/s]  \n"
     ]
    }
   ],
   "source": [
    "#os.environ[\"LHOTSE_AUDIO_DURATION_MISMATCH_TOLERANCE\"] =   \"1.5\"\n",
    "mp.set_start_method('spawn', force=True)\n",
    "save_audios_from_cutset(grouped_cuts, os.path.join(OUT_DIR, 'wavs'))"
   ]
  },
  {
   "cell_type": "code",
   "execution_count": 14,
   "id": "7246d21b",
   "metadata": {},
   "outputs": [
    {
     "data": {
      "text/plain": [
       "22107"
      ]
     },
     "execution_count": 14,
     "metadata": {},
     "output_type": "execute_result"
    }
   ],
   "source": [
    "new_amount"
   ]
  }
 ],
 "metadata": {
  "kernelspec": {
   "display_name": "sdv3",
   "language": "python",
   "name": "python3"
  },
  "language_info": {
   "codemirror_mode": {
    "name": "ipython",
    "version": 3
   },
   "file_extension": ".py",
   "mimetype": "text/x-python",
   "name": "python",
   "nbconvert_exporter": "python",
   "pygments_lexer": "ipython3",
   "version": "3.10.18"
  }
 },
 "nbformat": 4,
 "nbformat_minor": 5
}
