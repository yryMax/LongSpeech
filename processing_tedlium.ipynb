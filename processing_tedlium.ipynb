{
 "cells": [
  {
   "cell_type": "code",
   "execution_count": 13,
   "metadata": {},
   "outputs": [],
   "source": [
    "import os\n",
    "import shutil\n",
    "from pathlib import Path\n",
    "\n",
    "import multiprocessing as mp\n",
    "from pathlib import Path\n",
    "import os\n",
    "import json\n",
    "import pandas as pd\n",
    "from tqdm import tqdm\n",
    "from lhotse import CutSet, RecordingSet, SupervisionSet, MonoCut\n",
    "from lhotse.cut import append_cuts\n",
    "from lhotse.recipes import prepare_tedlium\n",
    "\n",
    "import logging\n",
    "\n",
    "logging.basicConfig(level=logging.INFO)"
   ]
  },
  {
   "cell_type": "code",
   "execution_count": 14,
   "metadata": {},
   "outputs": [],
   "source": [
    "IN_DIR = \"../datasets/LongSpeechSource/TEDLIUM_release-3\"\n",
    "OUT_DIR = '../datasets/LongSpeech'"
   ]
  },
  {
   "cell_type": "code",
   "execution_count": 16,
   "metadata": {},
   "outputs": [
    {
     "name": "stderr",
     "output_type": "stream",
     "text": [
      "Scanning audio files (*.sph): 2351it [00:18, 128.25it/s]\n",
      "Scanning audio files (*.sph): 8it [00:00, 36.16it/s]\n",
      "Scanning audio files (*.sph): 11it [00:00, 55.54it/s]\n"
     ]
    }
   ],
   "source": [
    "manifests = prepare_tedlium(tedlium_root=IN_DIR, output_dir=OUT_DIR, num_jobs=15)"
   ]
  },
  {
   "cell_type": "code",
   "execution_count": 22,
   "metadata": {},
   "outputs": [],
   "source": [
    "cuts = CutSet()\n",
    "for part in manifests.keys():\n",
    "    rs = manifests[part]['recordings']\n",
    "    ss = manifests[part]['supervisions']\n",
    "    cut = CutSet.from_manifests(recordings=rs, supervisions=ss)\n",
    "    cuts += cut"
   ]
  },
  {
   "cell_type": "code",
   "execution_count": 23,
   "metadata": {},
   "outputs": [],
   "source": [
    "cuts.to_jsonl(os.path.join(OUT_DIR, 'raw_ted_lium_cuts.jsonl'))"
   ]
  },
  {
   "cell_type": "code",
   "execution_count": null,
   "metadata": {},
   "outputs": [],
   "source": []
  },
  {
   "cell_type": "code",
   "execution_count": 3,
   "metadata": {},
   "outputs": [],
   "source": [
    "def collect_subset(\n",
    " tedlium_root: Path,\n",
    " output_dir: Path,\n",
    " num_files: int = 1\n",
    "):\n",
    "    # 原始路径\n",
    "    sph_dir = Path(os.path.join(tedlium_root, \"data\", \"sph\"))\n",
    "    stm_dir = Path(os.path.join(tedlium_root, \"data\", \"stm\"))\n",
    "    out_sph_dir = Path(os.path.join(output_dir, \"data\", \"sph\"))\n",
    "    out_stm_dir = Path(os.path.join(output_dir, \"data\", \"stm\"))\n",
    "    out_sph_dir.mkdir(parents=True, exist_ok=True)\n",
    "    out_stm_dir.mkdir(parents=True, exist_ok=True)\n",
    "\n",
    "    # 找到所有 .sph 文件\n",
    "    sph_files = sorted(sph_dir.glob(\"*.sph\"))\n",
    "    selected = sph_files[:num_files]\n",
    "    print(sph_dir)\n",
    "    for sph_path in selected:\n",
    "        base = sph_path.stem  # TED_2008_0001\n",
    "        stm_path = stm_dir / f\"{base}.stm\"\n",
    "\n",
    "        if not stm_path.exists():\n",
    "            print(f\"⚠️ STM not found for: {base}\")\n",
    "            continue\n",
    "\n",
    "        # 复制 .sph 和对应 .stm\n",
    "        shutil.copy(sph_path, out_sph_dir / sph_path.name)\n",
    "        shutil.copy(stm_path, out_stm_dir / stm_path.name)\n",
    "\n",
    "        print(f\" Copied: {base}.sph and {base}.stm\")"
   ]
  },
  {
   "cell_type": "code",
   "execution_count": 4,
   "metadata": {},
   "outputs": [
    {
     "name": "stdout",
     "output_type": "stream",
     "text": [
      "../datasets/LongSpeechSource/TEDLIUM_release-3/data/sph\n",
      " Copied: 911Mothers_2010W.sph and 911Mothers_2010W.stm\n"
     ]
    }
   ],
   "source": [
    "collect_subset(INPUT_FOLDER, OUTPUT_FOLDER)"
   ]
  }
 ],
 "metadata": {
  "kernelspec": {
   "display_name": "Python 3",
   "language": "python",
   "name": "python3"
  },
  "language_info": {
   "codemirror_mode": {
    "name": "ipython",
    "version": 3
   },
   "file_extension": ".py",
   "mimetype": "text/x-python",
   "name": "python",
   "nbconvert_exporter": "python",
   "pygments_lexer": "ipython3",
   "version": "3.10.18"
  },
  "orig_nbformat": 4
 },
 "nbformat": 4,
 "nbformat_minor": 2
}
