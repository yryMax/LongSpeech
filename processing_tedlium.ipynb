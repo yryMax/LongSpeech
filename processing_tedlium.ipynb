{
 "cells": [
  {
   "cell_type": "code",
   "execution_count": 1,
   "metadata": {},
   "outputs": [],
   "source": [
    "import os\n",
    "import shutil\n",
    "from pathlib import Path"
   ]
  },
  {
   "cell_type": "code",
   "execution_count": 2,
   "metadata": {},
   "outputs": [],
   "source": [
    "INPUT_FOLDER = \"../datasets/LongSpeechSource/TEDLIUM_release-3\"\n",
    "OUTPUT_FOLDER = \"./tedlium\""
   ]
  },
  {
   "cell_type": "code",
   "execution_count": 3,
   "metadata": {},
   "outputs": [],
   "source": [
    "def collect_subset(\n",
    " tedlium_root: Path,\n",
    " output_dir: Path,\n",
    " num_files: int = 1\n",
    "):\n",
    "    # 原始路径\n",
    "    sph_dir = Path(os.path.join(tedlium_root, \"data\", \"sph\"))\n",
    "    stm_dir = Path(os.path.join(tedlium_root, \"data\", \"stm\"))\n",
    "    out_sph_dir = Path(os.path.join(output_dir, \"data\", \"sph\"))\n",
    "    out_stm_dir = Path(os.path.join(output_dir, \"data\", \"stm\"))\n",
    "    out_sph_dir.mkdir(parents=True, exist_ok=True)\n",
    "    out_stm_dir.mkdir(parents=True, exist_ok=True)\n",
    "\n",
    "    # 找到所有 .sph 文件\n",
    "    sph_files = sorted(sph_dir.glob(\"*.sph\"))\n",
    "    selected = sph_files[:num_files]\n",
    "    print(sph_dir)\n",
    "    for sph_path in selected:\n",
    "        base = sph_path.stem  # TED_2008_0001\n",
    "        stm_path = stm_dir / f\"{base}.stm\"\n",
    "\n",
    "        if not stm_path.exists():\n",
    "            print(f\"⚠️ STM not found for: {base}\")\n",
    "            continue\n",
    "\n",
    "        # 复制 .sph 和对应 .stm\n",
    "        shutil.copy(sph_path, out_sph_dir / sph_path.name)\n",
    "        shutil.copy(stm_path, out_stm_dir / stm_path.name)\n",
    "\n",
    "        print(f\" Copied: {base}.sph and {base}.stm\")"
   ]
  },
  {
   "cell_type": "code",
   "execution_count": 4,
   "metadata": {},
   "outputs": [
    {
     "name": "stdout",
     "output_type": "stream",
     "text": [
      "../datasets/LongSpeechSource/TEDLIUM_release-3/data/sph\n",
      " Copied: 911Mothers_2010W.sph and 911Mothers_2010W.stm\n"
     ]
    }
   ],
   "source": [
    "collect_subset(INPUT_FOLDER, OUTPUT_FOLDER)"
   ]
  }
 ],
 "metadata": {
  "kernelspec": {
   "display_name": "Python 3",
   "language": "python",
   "name": "python3"
  },
  "language_info": {
   "codemirror_mode": {
    "name": "ipython",
    "version": 3
   },
   "file_extension": ".py",
   "mimetype": "text/x-python",
   "name": "python",
   "nbconvert_exporter": "python",
   "pygments_lexer": "ipython3",
   "version": "3.10.18"
  },
  "orig_nbformat": 4
 },
 "nbformat": 4,
 "nbformat_minor": 2
}
